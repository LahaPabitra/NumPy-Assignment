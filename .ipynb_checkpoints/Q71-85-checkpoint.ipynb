{
 "cells": [
  {
   "cell_type": "code",
   "execution_count": 1,
   "id": "232137e4-040c-43f5-9e12-805122e56543",
   "metadata": {},
   "outputs": [],
   "source": [
    "import numpy as np"
   ]
  },
  {
   "cell_type": "code",
   "execution_count": 4,
   "id": "5ba35d4a-5ac5-4ac4-9ba7-9a1ed254611c",
   "metadata": {},
   "outputs": [],
   "source": [
    "#81. Create two matrices A and B of identical shape containing integers and perform addition and subtraction operations between them.\n",
    "a=np.random.randint(1,1000,size=(3,2))\n",
    "b=np.random.randint(1,1000,size=(3,2))\n",
    "c=a+b\n",
    "d=a-b"
   ]
  },
  {
   "cell_type": "code",
   "execution_count": 5,
   "id": "bff0dbc0-f520-445a-bcb5-ad751d4fb916",
   "metadata": {},
   "outputs": [
    {
     "data": {
      "text/plain": [
       "array([[1053, 1120],\n",
       "       [1752, 1676],\n",
       "       [ 972,  464]])"
      ]
     },
     "execution_count": 5,
     "metadata": {},
     "output_type": "execute_result"
    }
   ],
   "source": [
    "c"
   ]
  },
  {
   "cell_type": "code",
   "execution_count": 6,
   "id": "a2e09388-351a-413e-9007-03b22525f859",
   "metadata": {},
   "outputs": [
    {
     "data": {
      "text/plain": [
       "array([[  35,  -82],\n",
       "       [  -6,   28],\n",
       "       [-210, -444]])"
      ]
     },
     "execution_count": 6,
     "metadata": {},
     "output_type": "execute_result"
    }
   ],
   "source": [
    "d"
   ]
  },
  {
   "cell_type": "code",
   "execution_count": 7,
   "id": "a428323e-bafc-4033-8043-6babff496d11",
   "metadata": {},
   "outputs": [],
   "source": [
    "#82. Generate two matrices `C` (3x2) and `D` (2x4) and perform matrix multiplication.\n",
    "c=np.random.randint(1,50,size=(3,2))\n",
    "d=np.random.randint(1,50,size=(2,4))"
   ]
  },
  {
   "cell_type": "code",
   "execution_count": 8,
   "id": "47e4308e-0c0f-432d-8e14-43a08b4b8499",
   "metadata": {},
   "outputs": [],
   "source": [
    "f=c@d"
   ]
  },
  {
   "cell_type": "code",
   "execution_count": 9,
   "id": "047ed8e0-e444-4a53-9f31-9477444e97bb",
   "metadata": {},
   "outputs": [
    {
     "data": {
      "text/plain": [
       "array([[ 808,  669,  112, 1063],\n",
       "       [ 906,  805,   90, 1143],\n",
       "       [1595, 1367,  191, 2057]])"
      ]
     },
     "execution_count": 9,
     "metadata": {},
     "output_type": "execute_result"
    }
   ],
   "source": [
    "f"
   ]
  },
  {
   "cell_type": "code",
   "execution_count": 10,
   "id": "d1d28b43-90cb-408e-8908-aa0453f4f45e",
   "metadata": {},
   "outputs": [],
   "source": [
    "#83. Create a matrix `E` and find its transpose.\n",
    "E=np.random.randint(1,50,size=(3,2))\n",
    "F=E.T"
   ]
  },
  {
   "cell_type": "code",
   "execution_count": 11,
   "id": "bf4742fa-b780-4dca-9d7c-87426759c4cf",
   "metadata": {},
   "outputs": [
    {
     "data": {
      "text/plain": [
       "array([[19, 14],\n",
       "       [39,  6],\n",
       "       [41, 37]])"
      ]
     },
     "execution_count": 11,
     "metadata": {},
     "output_type": "execute_result"
    }
   ],
   "source": [
    "E"
   ]
  },
  {
   "cell_type": "code",
   "execution_count": 12,
   "id": "148fbcc5-d819-4a66-ba6f-6688be1ea90f",
   "metadata": {},
   "outputs": [
    {
     "data": {
      "text/plain": [
       "array([[19, 39, 41],\n",
       "       [14,  6, 37]])"
      ]
     },
     "execution_count": 12,
     "metadata": {},
     "output_type": "execute_result"
    }
   ],
   "source": [
    "F"
   ]
  },
  {
   "cell_type": "code",
   "execution_count": 13,
   "id": "a0d6820d-888c-4fab-94bc-b13c2acf4245",
   "metadata": {},
   "outputs": [],
   "source": [
    "#84. Generate a square matrix `F` and compute its determinant.\n",
    "arr=np.random.randint(1,50,size=(4,4))\n",
    "arr1=np.linalg.det(arr)\n"
   ]
  },
  {
   "cell_type": "code",
   "execution_count": 14,
   "id": "00792938-30ae-4625-b5ef-8858f4ee0479",
   "metadata": {},
   "outputs": [
    {
     "data": {
      "text/plain": [
       "-66937.99999999974"
      ]
     },
     "execution_count": 14,
     "metadata": {},
     "output_type": "execute_result"
    }
   ],
   "source": [
    "arr1"
   ]
  },
  {
   "cell_type": "code",
   "execution_count": 19,
   "id": "3d85ca41-9a57-439f-9c3e-b00a0cec0db4",
   "metadata": {},
   "outputs": [],
   "source": [
    "#85. Create a square matrix `G` and find its inverse.\n",
    "G=np.random.randint(1,50,size=(4,4))\n",
    "G1=np.linalg.inv(G)"
   ]
  },
  {
   "cell_type": "code",
   "execution_count": 21,
   "id": "356988f1-d90d-4353-97f9-810dfaffbc97",
   "metadata": {},
   "outputs": [
    {
     "data": {
      "text/plain": [
       "array([[39, 24, 29,  2],\n",
       "       [42, 39, 29, 19],\n",
       "       [11,  8, 44,  5],\n",
       "       [28, 15, 39, 35]])"
      ]
     },
     "execution_count": 21,
     "metadata": {},
     "output_type": "execute_result"
    }
   ],
   "source": [
    "G"
   ]
  },
  {
   "cell_type": "code",
   "execution_count": 22,
   "id": "8aec995a-fa00-4247-a679-ee79bbd27101",
   "metadata": {},
   "outputs": [
    {
     "data": {
      "text/plain": [
       "array([[ 0.06166081, -0.03962408, -0.03488415,  0.02297019],\n",
       "       [-0.0527435 ,  0.06760466,  0.02297174, -0.03696743],\n",
       "       [-0.00319292, -0.00308629,  0.0288754 , -0.00226719],\n",
       "       [-0.02316646,  0.00616485, -0.01411315,  0.02856476]])"
      ]
     },
     "execution_count": 22,
     "metadata": {},
     "output_type": "execute_result"
    }
   ],
   "source": [
    "G1"
   ]
  },
  {
   "cell_type": "code",
   "execution_count": null,
   "id": "e827e474-d440-4f96-9578-19d9424d168a",
   "metadata": {},
   "outputs": [],
   "source": []
  }
 ],
 "metadata": {
  "kernelspec": {
   "display_name": "Python 3 (ipykernel)",
   "language": "python",
   "name": "python3"
  },
  "language_info": {
   "codemirror_mode": {
    "name": "ipython",
    "version": 3
   },
   "file_extension": ".py",
   "mimetype": "text/x-python",
   "name": "python",
   "nbconvert_exporter": "python",
   "pygments_lexer": "ipython3",
   "version": "3.10.8"
  }
 },
 "nbformat": 4,
 "nbformat_minor": 5
}
