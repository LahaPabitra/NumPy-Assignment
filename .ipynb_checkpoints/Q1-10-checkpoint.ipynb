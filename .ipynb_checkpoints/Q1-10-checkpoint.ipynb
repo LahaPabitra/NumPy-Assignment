{
 "cells": [
  {
   "cell_type": "code",
   "execution_count": 3,
   "id": "e868333c-0f64-4929-899a-3f14d99d628d",
   "metadata": {},
   "outputs": [],
   "source": [
    "#1. Create a NumPy array 'arr' of integers from 0 to 5 and print its data type.\n",
    "import numpy as np\n"
   ]
  },
  {
   "cell_type": "code",
   "execution_count": 5,
   "id": "0a35c78d-d54f-4af5-b3db-09ab16cce3cd",
   "metadata": {},
   "outputs": [],
   "source": [
    "arr=np.arange(0,6,1)"
   ]
  },
  {
   "cell_type": "code",
   "execution_count": 6,
   "id": "7cb1da8e-bf5e-4f78-87d2-85fbffce0f88",
   "metadata": {},
   "outputs": [
    {
     "data": {
      "text/plain": [
       "array([0, 1, 2, 3, 4, 5])"
      ]
     },
     "execution_count": 6,
     "metadata": {},
     "output_type": "execute_result"
    }
   ],
   "source": [
    "arr"
   ]
  },
  {
   "cell_type": "code",
   "execution_count": 7,
   "id": "418e0be1-ef57-4cb4-ba34-7bbee9c6dae6",
   "metadata": {},
   "outputs": [
    {
     "data": {
      "text/plain": [
       "dtype('int64')"
      ]
     },
     "execution_count": 7,
     "metadata": {},
     "output_type": "execute_result"
    }
   ],
   "source": [
    "arr.dtype"
   ]
  },
  {
   "cell_type": "code",
   "execution_count": 8,
   "id": "fa9dc685-4d1f-4389-82f5-044efd5b54a5",
   "metadata": {},
   "outputs": [],
   "source": [
    "#2.Given a NumPy array 'arr', check if its data type is float64.\n",
    "arr = np.array([1.5, 2.6, 3.7])"
   ]
  },
  {
   "cell_type": "code",
   "execution_count": 9,
   "id": "b3fefe16-6216-4547-8f36-85a88eceb50a",
   "metadata": {},
   "outputs": [
    {
     "data": {
      "text/plain": [
       "dtype('float64')"
      ]
     },
     "execution_count": 9,
     "metadata": {},
     "output_type": "execute_result"
    }
   ],
   "source": [
    "arr.dtype"
   ]
  },
  {
   "cell_type": "code",
   "execution_count": 10,
   "id": "2f55e19f-b97d-4fb2-b240-1739c82034cc",
   "metadata": {},
   "outputs": [
    {
     "ename": "NameError",
     "evalue": "name 'complex128' is not defined",
     "output_type": "error",
     "traceback": [
      "\u001b[0;31m---------------------------------------------------------------------------\u001b[0m",
      "\u001b[0;31mNameError\u001b[0m                                 Traceback (most recent call last)",
      "Cell \u001b[0;32mIn[10], line 1\u001b[0m\n\u001b[0;32m----> 1\u001b[0m np\u001b[38;5;241m.\u001b[39mrandom\u001b[38;5;241m.\u001b[39mrand(\u001b[38;5;241m3\u001b[39m,dtype\u001b[38;5;241m=\u001b[39m \u001b[43mcomplex128\u001b[49m)\n",
      "\u001b[0;31mNameError\u001b[0m: name 'complex128' is not defined"
     ]
    }
   ],
   "source": [
    "np.random.rand(3,dtype= complex128)\n"
   ]
  },
  {
   "cell_type": "code",
   "execution_count": 13,
   "id": "46d775d8-77ea-46ed-b42c-ed52426ec306",
   "metadata": {},
   "outputs": [],
   "source": [
    "#4. Convert an existing NumPy array 'arr' of integers to float32 data type.\n",
    "arr=np.arange(0,6,1)"
   ]
  },
  {
   "cell_type": "code",
   "execution_count": 21,
   "id": "08ad5d0e-9fc4-4352-9fc2-d497aefd76ff",
   "metadata": {},
   "outputs": [],
   "source": [
    "arr1=arr.astype(np.float32)"
   ]
  },
  {
   "cell_type": "code",
   "execution_count": 23,
   "id": "e1e6d326-8bee-4925-8c30-25db2bffad65",
   "metadata": {},
   "outputs": [
    {
     "data": {
      "text/plain": [
       "array([0., 1., 2., 3., 4., 5.], dtype=float32)"
      ]
     },
     "execution_count": 23,
     "metadata": {},
     "output_type": "execute_result"
    }
   ],
   "source": [
    "arr1"
   ]
  },
  {
   "cell_type": "code",
   "execution_count": 24,
   "id": "b710f5cc-73c4-417e-a65b-10cb6f3124d2",
   "metadata": {},
   "outputs": [],
   "source": [
    "#5.Given a NumPy array 'arr' with float64 data type, convert it to float32 to reduce decimal precision.\n",
    "arr=np.random.rand(4)"
   ]
  },
  {
   "cell_type": "code",
   "execution_count": 25,
   "id": "3ed11a6d-47e7-43ba-aeb1-1aa11eca9b5d",
   "metadata": {},
   "outputs": [
    {
     "data": {
      "text/plain": [
       "array([0.16177152, 0.33981359, 0.41740352, 0.30820859])"
      ]
     },
     "execution_count": 25,
     "metadata": {},
     "output_type": "execute_result"
    }
   ],
   "source": [
    "arr"
   ]
  },
  {
   "cell_type": "code",
   "execution_count": 26,
   "id": "d6c7c3dc-af37-4341-bcc8-609b14dc6ef8",
   "metadata": {},
   "outputs": [],
   "source": [
    "arr1=arr.astype(np.float32)"
   ]
  },
  {
   "cell_type": "code",
   "execution_count": 28,
   "id": "bca854f8-01f0-453a-a7e7-e259136c4974",
   "metadata": {},
   "outputs": [
    {
     "data": {
      "text/plain": [
       "array([0.16177152, 0.3398136 , 0.41740352, 0.30820858], dtype=float32)"
      ]
     },
     "execution_count": 28,
     "metadata": {},
     "output_type": "execute_result"
    }
   ],
   "source": [
    "arr1"
   ]
  },
  {
   "cell_type": "code",
   "execution_count": 62,
   "id": "c9f783be-e74b-4abe-8403-0007d4f22197",
   "metadata": {},
   "outputs": [],
   "source": [
    "#6.Write a function array_attributes that takes a NumPy array as input and returns its shape, size, and datatype\n",
    "arr=np.random.randint(1,10,size=[2,3])"
   ]
  },
  {
   "cell_type": "code",
   "execution_count": 63,
   "id": "061a55fa-c2b7-4378-afe9-248951ba0aa2",
   "metadata": {},
   "outputs": [],
   "source": [
    "def array_attribute(arr):\n",
    "    print(\"shape of the array\",arr.shape)\n",
    "    print(\"size of the array\",arr.size)\n",
    "    print(\"datatype of the array\",arr.dtype)"
   ]
  },
  {
   "cell_type": "code",
   "execution_count": 64,
   "id": "50c15436-3a75-4315-a753-775c2a1c47d1",
   "metadata": {},
   "outputs": [
    {
     "name": "stdout",
     "output_type": "stream",
     "text": [
      "shape of the array (2, 3)\n",
      "size of the array 6\n",
      "datatype of the array int64\n"
     ]
    }
   ],
   "source": [
    "array_attribute(arr)"
   ]
  },
  {
   "cell_type": "code",
   "execution_count": 58,
   "id": "6bda9582-fa67-421a-8484-458257325c63",
   "metadata": {},
   "outputs": [],
   "source": [
    "#7. Create a function array_dimension that takes a NumPy array as input and returns its dimensionality.\n",
    "arr=np.random.randint(1,10,size=[1,2,3])"
   ]
  },
  {
   "cell_type": "code",
   "execution_count": 65,
   "id": "73f3e0da-b798-400b-9ff2-4249e97c40b6",
   "metadata": {},
   "outputs": [],
   "source": [
    "def array_dimension(arr):\n",
    "    print(\"The dimension of the array\",arr.ndim)"
   ]
  },
  {
   "cell_type": "code",
   "execution_count": 66,
   "id": "bde40e62-7816-452e-8680-0621a9b693dc",
   "metadata": {},
   "outputs": [
    {
     "name": "stdout",
     "output_type": "stream",
     "text": [
      "The dimension of the array 2\n"
     ]
    }
   ],
   "source": [
    "array_dimension(arr)"
   ]
  },
  {
   "cell_type": "code",
   "execution_count": 67,
   "id": "e84fe13e-576b-4b98-af7b-5c3698037067",
   "metadata": {},
   "outputs": [],
   "source": [
    "#8. Design a function item_size_info that takes a NumPy array as input and returns the item size and the total sizein bytes.\n",
    "arr=np.random.randint(1,10,size=[2,3])\n",
    "\n",
    "\n"
   ]
  },
  {
   "cell_type": "code",
   "execution_count": 69,
   "id": "15752fb6-98a2-4a4a-9221-708c2dbf238a",
   "metadata": {},
   "outputs": [],
   "source": [
    "def item_size(arr):\n",
    "    print(\"item size\",arr.itemsize)\n",
    "    print(\"size in bytes\",(arr.size*arr.itemsize))"
   ]
  },
  {
   "cell_type": "code",
   "execution_count": 70,
   "id": "c669bdb7-53a9-4eb9-aa5a-4075fc144c62",
   "metadata": {},
   "outputs": [
    {
     "name": "stdout",
     "output_type": "stream",
     "text": [
      "item size 8\n",
      "size in bytes 48\n"
     ]
    }
   ],
   "source": [
    "item_size(arr)\n"
   ]
  },
  {
   "cell_type": "code",
   "execution_count": 17,
   "id": "dfd2dc2e-7124-4ee3-a832-996e750ea08e",
   "metadata": {},
   "outputs": [],
   "source": [
    "#11. Create a function `create_zeros_array` that takes an integer `n` as input and returns a NumPy array of zeros with `n` elements.\n",
    "\n",
    "def create_zeros_array(n):\n",
    "    np.zeros(n)\n",
    "    \n",
    "    \n"
   ]
  },
  {
   "cell_type": "code",
   "execution_count": 18,
   "id": "57a748bd-cc0b-4d71-a762-6f3093150ab7",
   "metadata": {},
   "outputs": [
    {
     "name": "stdin",
     "output_type": "stream",
     "text": [
      " 3\n"
     ]
    }
   ],
   "source": [
    "n=input()\n",
    "create_zeros_array(n)\n"
   ]
  },
  {
   "cell_type": "code",
   "execution_count": null,
   "id": "bf6e74bc-6f7b-4da0-9111-c24c21029f37",
   "metadata": {},
   "outputs": [],
   "source": []
  }
 ],
 "metadata": {
  "kernelspec": {
   "display_name": "Python 3 (ipykernel)",
   "language": "python",
   "name": "python3"
  },
  "language_info": {
   "codemirror_mode": {
    "name": "ipython",
    "version": 3
   },
   "file_extension": ".py",
   "mimetype": "text/x-python",
   "name": "python",
   "nbconvert_exporter": "python",
   "pygments_lexer": "ipython3",
   "version": "3.10.8"
  }
 },
 "nbformat": 4,
 "nbformat_minor": 5
}
