{
 "cells": [
  {
   "cell_type": "code",
   "execution_count": 11,
   "id": "eb0623c8-58e1-4591-b0e7-b9c8a25ecb94",
   "metadata": {},
   "outputs": [
    {
     "data": {
      "text/plain": [
       "array([[858, 382, 843,  67, 459, 478, 639, 518, 910, 491, 818, 108, 172,\n",
       "        374, 948, 526, 625,  23, 487,  60, 199, 504, 205,  66, 668, 511,\n",
       "        546, 817, 470, 125, 354, 670, 170, 439, 145, 764, 830, 854, 455,\n",
       "        969, 964, 113, 516, 944, 368,  62, 602, 232, 478,  45, 597, 330,\n",
       "        664, 444, 593, 980, 837,  10,  19, 431, 336, 228, 912, 706, 850,\n",
       "        772, 649,  73, 106, 958, 403, 621,  90, 125, 123,  41, 665, 205,\n",
       "        225, 807, 785, 943, 459, 860, 820, 730, 927, 835,  13, 220,  84,\n",
       "        404, 589, 611, 514, 583, 489, 403, 594, 163]])"
      ]
     },
     "execution_count": 11,
     "metadata": {},
     "output_type": "execute_result"
    }
   ],
   "source": [
    "import numpy as np\n",
    "#61. Create a dataset of 100 random integers between 1 and 1000. Compute the mean, median, variance, and standard deviation of the dataset using NumPy's functions.\n",
    "arr=np.random.randint(1,1000,(1,100))\n",
    "arr"
   ]
  },
  {
   "cell_type": "code",
   "execution_count": 21,
   "id": "828abe79-1a9d-47a3-b398-03f25e8cb2c4",
   "metadata": {},
   "outputs": [
    {
     "name": "stdout",
     "output_type": "stream",
     "text": [
      "mean 486.97 \n",
      " median 490.0 \n",
      " variance 86131.6091 \n",
      " standard deviation 293.48187184219745 \n",
      "\n"
     ]
    }
   ],
   "source": [
    "print(\"mean\",np.mean(arr),'\\n',\"median\",np.median(arr),'\\n',\"variance\",np.var(arr),'\\n',\"standard deviation\" ,np.std(arr),'\\n')\n"
   ]
  },
  {
   "cell_type": "code",
   "execution_count": 25,
   "id": "243b9efc-19cf-429c-bdb9-f5e32bef08f8",
   "metadata": {},
   "outputs": [
    {
     "name": "stdout",
     "output_type": "stream",
     "text": [
      "25th percentile= 27.25 \n",
      " 75th percentile= 64.0\n"
     ]
    }
   ],
   "source": [
    "#62. Generate an array of 50 random numbers between 1 and 100. Find the 25th and 75th percentiles of the dataset.\n",
    "arr=np.random.randint(1,100,(1,50))\n",
    "print(\"25th percentile=\",np.percentile(arr,25),'\\n',\"75th percentile=\",np.percentile(arr,75))"
   ]
  },
  {
   "cell_type": "code",
   "execution_count": 32,
   "id": "fbfaa82e-17d1-49d8-8115-e4d9a1cf6d6c",
   "metadata": {},
   "outputs": [
    {
     "data": {
      "text/plain": [
       "array([[75, 49, 68, 27, 21, 37,  5, 66, 44, 85, 95, 65, 80, 50, 66, 54,\n",
       "        42, 56, 36, 80]])"
      ]
     },
     "execution_count": 32,
     "metadata": {},
     "output_type": "execute_result"
    }
   ],
   "source": [
    "#63. Create two arrays representing two sets of variables. Compute the correlation coefficient between these arrays using NumPy's `corrcoef` function.\n",
    "arr1=np.random.randint(1,100,(1,20))\n",
    "arr2=np.random.randint(1,100,(1,20))\n",
    "c_arr=np.corrcoef(arr1,arr2)\n",
    "c_c=c_arr[0,1]\n",
    "arr1"
   ]
  },
  {
   "cell_type": "code",
   "execution_count": 33,
   "id": "6525723d-7db7-47d7-b11d-85bd5323c86c",
   "metadata": {},
   "outputs": [
    {
     "data": {
      "text/plain": [
       "array([[92, 95, 65, 66, 69, 66, 21, 96, 18, 26, 59, 20, 24,  2, 48, 46,\n",
       "        30, 41, 39, 51]])"
      ]
     },
     "execution_count": 33,
     "metadata": {},
     "output_type": "execute_result"
    }
   ],
   "source": [
    "arr2"
   ]
  },
  {
   "cell_type": "code",
   "execution_count": 34,
   "id": "d0ab3cf7-1e7f-4b01-ade5-a29a3007a276",
   "metadata": {},
   "outputs": [
    {
     "data": {
      "text/plain": [
       "0.09144858180149942"
      ]
     },
     "execution_count": 34,
     "metadata": {},
     "output_type": "execute_result"
    }
   ],
   "source": [
    "c_c"
   ]
  },
  {
   "cell_type": "code",
   "execution_count": 38,
   "id": "df9e9e83-5c5c-436a-82f6-49a6f3fc6c9a",
   "metadata": {},
   "outputs": [
    {
     "data": {
      "text/plain": [
       "array([[ 777,  641,  431],\n",
       "       [1506, 1234,  838],\n",
       "       [ 357,  317,  191]])"
      ]
     },
     "execution_count": 38,
     "metadata": {},
     "output_type": "execute_result"
    }
   ],
   "source": [
    "#64. Create two matrices and perform matrix multiplication using NumPy's `dot` function.\n",
    "arr1=np.random.randint(1,50,(3,2))\n",
    "arr2=np.random.randint(1,50,(2,3))\n",
    "np.dot(arr1,arr2)"
   ]
  },
  {
   "cell_type": "code",
   "execution_count": 44,
   "id": "e83a819c-3960-42c6-adc7-64291d48706c",
   "metadata": {},
   "outputs": [
    {
     "name": "stdout",
     "output_type": "stream",
     "text": [
      "10th percentile= 111.0\n",
      "50th percentile= 550.5\n",
      "90th percentile= 887.7\n",
      "first qartile= 251.75\n",
      "third quartile= 758.25\n"
     ]
    }
   ],
   "source": [
    "#65. Create an array of 50 integers between 10 and 1000. Calculate the 10th, 50th (median), and 90th percentiles along with the first and third quartiles.\n",
    "arr=np.random.randint(1,1000,(1,50))\n",
    "print(\"10th percentile=\",np.percentile(arr,10))\n",
    "print(\"50th percentile=\",np.percentile(arr,50))\n",
    "print(\"90th percentile=\",np.percentile(arr,90))\n",
    "print(\"first qartile=\",np.percentile(arr,25))\n",
    "print(\"third quartile=\",np.percentile(arr,75))"
   ]
  },
  {
   "cell_type": "code",
   "execution_count": 46,
   "id": "bfaf36e8-2b0f-47a6-98bc-d2841bf06282",
   "metadata": {},
   "outputs": [
    {
     "data": {
      "text/plain": [
       "array([[24,  3, 15],\n",
       "       [14, 26,  4]])"
      ]
     },
     "execution_count": 46,
     "metadata": {},
     "output_type": "execute_result"
    }
   ],
   "source": [
    "#66. Create a NumPy array of integers and find the index of a specific element.\n",
    "arr=np.random.randint(1,40,(2,3))\n",
    "arr"
   ]
  },
  {
   "cell_type": "code",
   "execution_count": 68,
   "id": "01e13d77-482e-46a7-bbfc-03d48a4c322a",
   "metadata": {},
   "outputs": [
    {
     "data": {
      "text/plain": [
       "(1, 0)"
      ]
     },
     "execution_count": 68,
     "metadata": {},
     "output_type": "execute_result"
    }
   ],
   "source": [
    "n=14\n",
    "ind=np.where(arr==n)\n",
    "index = tuple(idx[0] for idx in ind)\n",
    "index"
   ]
  },
  {
   "cell_type": "code",
   "execution_count": 77,
   "id": "6a8f187d-f0ba-4623-8528-e57c1ef0769c",
   "metadata": {},
   "outputs": [
    {
     "name": "stdout",
     "output_type": "stream",
     "text": [
      "array =\n",
      " [[32 40 38]\n",
      " [ 2 44 38]]\n",
      "sorted array = \n",
      " [[ 2 32 38]\n",
      " [38 40 44]]\n"
     ]
    }
   ],
   "source": [
    "#67. Generate a random NumPy array and sort it in ascending order.\n",
    "arr=np.random.randint(1,50,(2,3))\n",
    "sorted_arr=np.sort(arr.ravel()).reshape(2,3)\n",
    "print(\"array =\\n\",arr)\n",
    "print(\"sorted array =\",\"\\n\",sorted_arr)"
   ]
  },
  {
   "cell_type": "code",
   "execution_count": 7,
   "id": "655e9c8c-9b8d-4111-acbf-85adad54d6dc",
   "metadata": {},
   "outputs": [],
   "source": [
    "#68. Filter elements >20  in the given NumPy array.\n",
    "arr = np.array([12, 25, 6, 42, 8, 30])\n",
    "arr1=arr[arr>20]"
   ]
  },
  {
   "cell_type": "code",
   "execution_count": 8,
   "id": "d375c814-7cc5-48ff-ab5e-e663c4e1c4d2",
   "metadata": {},
   "outputs": [
    {
     "data": {
      "text/plain": [
       "array([25, 42, 30])"
      ]
     },
     "execution_count": 8,
     "metadata": {},
     "output_type": "execute_result"
    }
   ],
   "source": [
    "arr1"
   ]
  },
  {
   "cell_type": "code",
   "execution_count": 4,
   "id": "df5aab3c-ee02-467e-a831-5d1af020e06a",
   "metadata": {},
   "outputs": [],
   "source": [
    "#69. Filter elements which are divisible by 3 from a given NumPy array.\n",
    "arr = np.array([1, 5, 8, 12, 15])\n",
    "arr1=arr[arr%3==0]"
   ]
  },
  {
   "cell_type": "code",
   "execution_count": 5,
   "id": "5e6314b5-577f-454f-ad4e-35e026e640af",
   "metadata": {},
   "outputs": [
    {
     "data": {
      "text/plain": [
       "array([12, 15])"
      ]
     },
     "execution_count": 5,
     "metadata": {},
     "output_type": "execute_result"
    }
   ],
   "source": [
    "arr1"
   ]
  },
  {
   "cell_type": "code",
   "execution_count": 9,
   "id": "7be60b64-7aaa-4f3c-8dae-4d316640b848",
   "metadata": {},
   "outputs": [],
   "source": [
    "#70. Filter elements which are ≥ 20 and ≤ 40 from a given NumPy array\n",
    "arr = np.array([10, 20, 30, 40, 50])\n",
    "arr1=arr[arr>=20]\n",
    "arr2=arr1[arr1<=40]"
   ]
  },
  {
   "cell_type": "code",
   "execution_count": 10,
   "id": "175ef928-60bc-4545-88d3-d297ed765167",
   "metadata": {},
   "outputs": [
    {
     "data": {
      "text/plain": [
       "array([20, 30, 40])"
      ]
     },
     "execution_count": 10,
     "metadata": {},
     "output_type": "execute_result"
    }
   ],
   "source": [
    "arr2"
   ]
  },
  {
   "cell_type": "code",
   "execution_count": null,
   "id": "1f04aa65-5e2f-49cd-84e6-0c20dc803969",
   "metadata": {},
   "outputs": [],
   "source": []
  }
 ],
 "metadata": {
  "kernelspec": {
   "display_name": "Python 3 (ipykernel)",
   "language": "python",
   "name": "python3"
  },
  "language_info": {
   "codemirror_mode": {
    "name": "ipython",
    "version": 3
   },
   "file_extension": ".py",
   "mimetype": "text/x-python",
   "name": "python",
   "nbconvert_exporter": "python",
   "pygments_lexer": "ipython3",
   "version": "3.10.8"
  }
 },
 "nbformat": 4,
 "nbformat_minor": 5
}
