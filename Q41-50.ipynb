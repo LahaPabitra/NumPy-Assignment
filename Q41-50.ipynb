{
 "cells": [
  {
   "cell_type": "code",
   "execution_count": 2,
   "id": "9419c052-fb32-4d30-a2ae-ff10c3415810",
   "metadata": {},
   "outputs": [],
   "source": [
    "import numpy as np\n",
    "#41. Calculate column wise mean for the given array:\n",
    "arr = np.array([[1, 2, 3], [4, 5, 6]])\n",
    "arr1=np.mean(arr,axis=0)\n"
   ]
  },
  {
   "cell_type": "code",
   "execution_count": 3,
   "id": "081b58e0-95e4-41c5-ad8b-13ebf77ea90a",
   "metadata": {},
   "outputs": [
    {
     "data": {
      "text/plain": [
       "array([2.5, 3.5, 4.5])"
      ]
     },
     "execution_count": 3,
     "metadata": {},
     "output_type": "execute_result"
    }
   ],
   "source": [
    "arr1"
   ]
  },
  {
   "cell_type": "code",
   "execution_count": 4,
   "id": "d5c2e5c7-e23d-4266-9e0c-11128c673a51",
   "metadata": {},
   "outputs": [],
   "source": [
    "#42. Find maximum value in each row of the given array:\n",
    "arr = np.array([[1, 2, 3], [4, 5, 6]])\n",
    "arr1=np.max(arr,axis=1)"
   ]
  },
  {
   "cell_type": "code",
   "execution_count": 5,
   "id": "6edf93a9-81e0-4f7f-ac74-a766d4d23dea",
   "metadata": {},
   "outputs": [
    {
     "data": {
      "text/plain": [
       "array([3, 6])"
      ]
     },
     "execution_count": 5,
     "metadata": {},
     "output_type": "execute_result"
    }
   ],
   "source": [
    "arr1"
   ]
  },
  {
   "cell_type": "code",
   "execution_count": 12,
   "id": "a473b94c-555b-44e8-9d5b-3055d4ca0c51",
   "metadata": {},
   "outputs": [
    {
     "name": "stdout",
     "output_type": "stream",
     "text": [
      "(0, 2)\n",
      "(1, 2)\n"
     ]
    }
   ],
   "source": [
    "#43. For the given array, find indices of maximum value in each column.\n",
    "arr = np.array([[1, 2, 3], [4, 5, 6]])\n",
    "arr1=np.max(arr,axis=1)\n",
    "indices=np.where(arr==arr1[0])\n",
    "index=tuple(idx[0] for idx in indices)\n",
    "indices1=np.where(arr==arr1[1])\n",
    "index1=tuple(idx1[0] for idx1 in indices1)\n",
    "print(index)\n",
    "print(index1)"
   ]
  },
  {
   "cell_type": "code",
   "execution_count": 13,
   "id": "74b38ed0-aa53-4e76-abc0-f289474c5dbe",
   "metadata": {},
   "outputs": [
    {
     "data": {
      "text/plain": [
       "array([5, 7, 9])"
      ]
     },
     "execution_count": 13,
     "metadata": {},
     "output_type": "execute_result"
    }
   ],
   "source": [
    "#44. For the given array, apply custom function to calculate moving sum along rows.\n",
    "arr = np.array([[1, 2, 3], [4, 5, 6]])\n",
    "np.sum(arr,axis=0)\n"
   ]
  },
  {
   "cell_type": "code",
   "execution_count": 9,
   "id": "0d4fd3cb-99f4-49c7-ad84-a770060bc8c8",
   "metadata": {},
   "outputs": [
    {
     "name": "stdout",
     "output_type": "stream",
     "text": [
      "Not all elements in each column are even\n"
     ]
    }
   ],
   "source": [
    "#45. In the given array, check if all elements in each column are even.\n",
    "arr = np.array([[2, 4, 6], [3, 5, 7]])\n",
    "all_even_columns = np.all(arr % 2 == 0, axis=0)\n",
    "if np.all(all_even_columns):\n",
    "    print(\"Yes all element in each colmn are even\")\n",
    "else:\n",
    "    print(\"Not all elements in each column are even\")\n"
   ]
  },
  {
   "cell_type": "code",
   "execution_count": 6,
   "id": "01d8390a-1c1c-4d53-8bce-ba2479b014fd",
   "metadata": {},
   "outputs": [
    {
     "name": "stdin",
     "output_type": "stream",
     "text": [
      "enter m 2\n",
      "enter n 3\n"
     ]
    },
    {
     "data": {
      "text/plain": [
       "array([[1, 2, 3],\n",
       "       [4, 5, 6]])"
      ]
     },
     "execution_count": 6,
     "metadata": {},
     "output_type": "execute_result"
    }
   ],
   "source": [
    "#46. Given a NumPy array arr, reshape it into a matrix of dimensions `m` rows and `n` columns. Return the reshaped matrix\n",
    "arr = np.array([1, 2, 3, 4, 5, 6])\n",
    "m=int(input(\"enter m\"))\n",
    "n=int(input(\"enter n\"))\n",
    "arr.reshape((m,n))\n"
   ]
  },
  {
   "cell_type": "code",
   "execution_count": 9,
   "id": "3fdcdf98-4147-423f-9922-fa468f9b6ca4",
   "metadata": {},
   "outputs": [
    {
     "data": {
      "text/plain": [
       "array([1, 2, 3, 4, 5, 6])"
      ]
     },
     "execution_count": 9,
     "metadata": {},
     "output_type": "execute_result"
    }
   ],
   "source": [
    "#47. Create a function that takes a matrix as input and returns the flattened array.\n",
    "arr = np.array([[1, 2, 3], [4, 5, 6]])\n",
    "arr.flatten(order=\"C\")"
   ]
  },
  {
   "cell_type": "code",
   "execution_count": 24,
   "id": "b0930b7c-1d20-4ad5-bddc-2e30ae2e51c6",
   "metadata": {},
   "outputs": [],
   "source": [
    "#48. Write a function that concatenates two given arrays along a specified axis.\n",
    "array1 = np.array([[1, 2], [3, 4]])\n",
    "array2 = np.array([[5, 6], [7, 8]])\n",
    "array3=np.concatenate((array1,array2),axis=0\n",
    "                     )"
   ]
  },
  {
   "cell_type": "code",
   "execution_count": 25,
   "id": "71b72d88-a096-4252-af35-cfb307dfc491",
   "metadata": {},
   "outputs": [
    {
     "data": {
      "text/plain": [
       "array([[1, 2],\n",
       "       [3, 4],\n",
       "       [5, 6],\n",
       "       [7, 8]])"
      ]
     },
     "execution_count": 25,
     "metadata": {},
     "output_type": "execute_result"
    }
   ],
   "source": [
    "array3"
   ]
  },
  {
   "cell_type": "code",
   "execution_count": 26,
   "id": "d77174ff-2472-426d-b09b-00cf1c679664",
   "metadata": {},
   "outputs": [
    {
     "data": {
      "text/plain": [
       "[array([[1, 2, 3]]), array([[4, 5, 6]]), array([[7, 8, 9]])]"
      ]
     },
     "execution_count": 26,
     "metadata": {},
     "output_type": "execute_result"
    }
   ],
   "source": [
    "#49. Create a function that splits an array into multiple sub-arrays along a specified axis.\n",
    "arr= np.array([[1, 2, 3], [4, 5, 6], [7, 8, 9]])\n",
    "np.split(arr,3,axis=0)\n"
   ]
  },
  {
   "cell_type": "code",
   "execution_count": 13,
   "id": "5e3e08b1-64b1-4d51-af0f-637702894a43",
   "metadata": {},
   "outputs": [
    {
     "name": "stdout",
     "output_type": "stream",
     "text": [
      "[ 1  2 10  3  4 11  5]\n",
      "[ 1 10  4 11  5]\n"
     ]
    }
   ],
   "source": [
    "#50. Write a function that inserts and then deletes elements from a given array at specified indices.\n",
    "def pobo(arr,ind_i,v_i,i_d):\n",
    "    arr1=np.insert(arr, ind_i, v_i)\n",
    "    arr2=np.delete(arr1,i_d)\n",
    "    print(arr1)\n",
    "    print(arr2)\n",
    "original_array = np.array([1, 2, 3, 4, 5])\n",
    "indices_to_insert = [2, 4]\n",
    "values_to_insert = [10, 11]\n",
    "indices_to_delete = [1, 3]\n",
    "pobo(original_array,indices_to_insert,values_to_insert,indices_to_delete)"
   ]
  },
  {
   "cell_type": "code",
   "execution_count": null,
   "id": "dcf07545-1d54-44ff-a9a6-402a0346318c",
   "metadata": {},
   "outputs": [],
   "source": []
  }
 ],
 "metadata": {
  "kernelspec": {
   "display_name": "Python 3 (ipykernel)",
   "language": "python",
   "name": "python3"
  },
  "language_info": {
   "codemirror_mode": {
    "name": "ipython",
    "version": 3
   },
   "file_extension": ".py",
   "mimetype": "text/x-python",
   "name": "python",
   "nbconvert_exporter": "python",
   "pygments_lexer": "ipython3",
   "version": "3.10.8"
  }
 },
 "nbformat": 4,
 "nbformat_minor": 5
}
