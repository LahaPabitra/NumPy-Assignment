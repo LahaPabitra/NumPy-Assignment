{
 "cells": [
  {
   "cell_type": "code",
   "execution_count": 3,
   "id": "69f43998-1ff5-457c-a1c4-b2a543a7a243",
   "metadata": {},
   "outputs": [],
   "source": [
    "import numpy as np"
   ]
  },
  {
   "cell_type": "code",
   "execution_count": 3,
   "id": "efa5f073-5df4-4aa9-8d04-7d1e97c0be35",
   "metadata": {},
   "outputs": [
    {
     "data": {
      "text/plain": [
       "array([0, 1, 2, 3, 4, 5, 6, 7, 8, 9])"
      ]
     },
     "execution_count": 3,
     "metadata": {},
     "output_type": "execute_result"
    }
   ],
   "source": [
    "#51. Create a NumPy array `arr1` with random integers and another array `arr2` with integers from 1 to 10. Perform element-wise addition between `arr1` and `arr2`.\n",
    "arr1=np.arange(10)\n",
    "arr2=np.random.randint(1,10,size=(1,10))\n",
    "arr1"
   ]
  },
  {
   "cell_type": "code",
   "execution_count": 62,
   "id": "5b60daf5-e9b4-43bc-a1ce-00a3818be5f1",
   "metadata": {},
   "outputs": [
    {
     "data": {
      "text/plain": [
       "array([[7, 2, 5, 8, 1, 5, 6, 4, 3, 6]])"
      ]
     },
     "execution_count": 62,
     "metadata": {},
     "output_type": "execute_result"
    }
   ],
   "source": [
    "arr2"
   ]
  },
  {
   "cell_type": "code",
   "execution_count": 61,
   "id": "5f547d61-6665-4030-80f2-705926126e2a",
   "metadata": {},
   "outputs": [
    {
     "data": {
      "text/plain": [
       "array([0, 1, 2, 3, 4, 5, 6, 7, 8, 9])"
      ]
     },
     "execution_count": 61,
     "metadata": {},
     "output_type": "execute_result"
    }
   ],
   "source": [
    "arr1"
   ]
  },
  {
   "cell_type": "code",
   "execution_count": 59,
   "id": "edb9e039-6caf-4a64-a924-205748069fbb",
   "metadata": {},
   "outputs": [],
   "source": [
    "arr3=arr1+arr2"
   ]
  },
  {
   "cell_type": "code",
   "execution_count": 60,
   "id": "d39b68ce-eb30-428f-ba89-61d483f1fc01",
   "metadata": {},
   "outputs": [
    {
     "data": {
      "text/plain": [
       "array([[ 7,  3,  7, 11,  5, 10, 12, 11, 11, 15]])"
      ]
     },
     "execution_count": 60,
     "metadata": {},
     "output_type": "execute_result"
    }
   ],
   "source": [
    "arr3"
   ]
  },
  {
   "cell_type": "code",
   "execution_count": 50,
   "id": "db78a5e5-44db-41e3-944e-1ffc45e8afc3",
   "metadata": {},
   "outputs": [],
   "source": [
    "#52. Generate a NumPy array `arr1` with sequential integers from 10 to 1 and another array `arr2` with integers from 1 to 10. Subtract `arr2` from `arr1` element-wise.\n",
    "arr1=np.arange(10)\n",
    "arr2=np.arange(9,-1,-1)"
   ]
  },
  {
   "cell_type": "code",
   "execution_count": 51,
   "id": "d7851f95-8583-468d-abc8-a895fb77d817",
   "metadata": {},
   "outputs": [
    {
     "data": {
      "text/plain": [
       "array([0, 1, 2, 3, 4, 5, 6, 7, 8, 9])"
      ]
     },
     "execution_count": 51,
     "metadata": {},
     "output_type": "execute_result"
    }
   ],
   "source": [
    "arr1"
   ]
  },
  {
   "cell_type": "code",
   "execution_count": 52,
   "id": "2699eb74-0944-41cd-b38d-d0392b6a3fc9",
   "metadata": {},
   "outputs": [
    {
     "data": {
      "text/plain": [
       "array([9, 8, 7, 6, 5, 4, 3, 2, 1, 0])"
      ]
     },
     "execution_count": 52,
     "metadata": {},
     "output_type": "execute_result"
    }
   ],
   "source": [
    "arr2"
   ]
  },
  {
   "cell_type": "code",
   "execution_count": 55,
   "id": "88d0725a-0d73-4a62-8388-5b6e167ed952",
   "metadata": {},
   "outputs": [],
   "source": [
    "arr3=arr2-arr1"
   ]
  },
  {
   "cell_type": "code",
   "execution_count": 56,
   "id": "ed89e254-6747-42f5-8e5b-2e41c97eca2e",
   "metadata": {},
   "outputs": [
    {
     "data": {
      "text/plain": [
       "array([ 9,  7,  5,  3,  1, -1, -3, -5, -7, -9])"
      ]
     },
     "execution_count": 56,
     "metadata": {},
     "output_type": "execute_result"
    }
   ],
   "source": [
    "arr3"
   ]
  },
  {
   "cell_type": "code",
   "execution_count": 26,
   "id": "3bbe23d1-3c52-4ad7-a5d0-de2111ac2017",
   "metadata": {},
   "outputs": [],
   "source": [
    "#53. Create a NumPy array `arr1` with random integers and another array `arr2` with integers from 1 to 5. Perform element-wise multiplication between `arr1` and `arr2`.\n",
    "arr1=np.random.randint(5,size=(1,5))\n",
    "arr2=np.arange(0,5)"
   ]
  },
  {
   "cell_type": "code",
   "execution_count": 27,
   "id": "f3cb9db0-c19f-4ee7-84c4-e206017b8d7f",
   "metadata": {},
   "outputs": [
    {
     "data": {
      "text/plain": [
       "array([[0, 0, 3, 2, 4]])"
      ]
     },
     "execution_count": 27,
     "metadata": {},
     "output_type": "execute_result"
    }
   ],
   "source": [
    "arr1"
   ]
  },
  {
   "cell_type": "code",
   "execution_count": 28,
   "id": "8693c8ea-f3ce-4ca6-8337-8413979030c8",
   "metadata": {},
   "outputs": [
    {
     "data": {
      "text/plain": [
       "array([0, 1, 2, 3, 4])"
      ]
     },
     "execution_count": 28,
     "metadata": {},
     "output_type": "execute_result"
    }
   ],
   "source": [
    "arr2"
   ]
  },
  {
   "cell_type": "code",
   "execution_count": 29,
   "id": "dd3b84ae-fc94-4deb-8495-b572d7174a57",
   "metadata": {},
   "outputs": [],
   "source": [
    "arr2=arr1*arr2"
   ]
  },
  {
   "cell_type": "code",
   "execution_count": 30,
   "id": "142cd8f7-c330-4f3c-b244-7c86072b83db",
   "metadata": {},
   "outputs": [
    {
     "data": {
      "text/plain": [
       "array([[ 0,  0,  6,  6, 16]])"
      ]
     },
     "execution_count": 30,
     "metadata": {},
     "output_type": "execute_result"
    }
   ],
   "source": [
    "arr2"
   ]
  },
  {
   "cell_type": "code",
   "execution_count": 39,
   "id": "b0a6a14c-6ee9-42cb-ad0d-35ab8ffe5b74",
   "metadata": {},
   "outputs": [],
   "source": [
    "#54. Generate a NumPy array `arr1` with even integers from 2 to 10 and another array `arr2` with integers from 1 to 5. Perform element-wise division of `arr1` by `arr2`.\n",
    "arr2=np.random.randint(1,6,size=(1,5))\n",
    "arr1=np.arange(2,11,2)\n",
    "arr2=arr[arr<=5]"
   ]
  },
  {
   "cell_type": "code",
   "execution_count": 40,
   "id": "657df59d-04c9-4f01-858d-2ac25aa232df",
   "metadata": {},
   "outputs": [
    {
     "data": {
      "text/plain": [
       "array([ 2,  4,  6,  8, 10])"
      ]
     },
     "execution_count": 40,
     "metadata": {},
     "output_type": "execute_result"
    }
   ],
   "source": [
    "arr1"
   ]
  },
  {
   "cell_type": "code",
   "execution_count": 41,
   "id": "24ad69fb-3ce9-4e1d-a9b2-299628fe8fbd",
   "metadata": {},
   "outputs": [
    {
     "data": {
      "text/plain": [
       "array([4, 4, 4, 3, 2])"
      ]
     },
     "execution_count": 41,
     "metadata": {},
     "output_type": "execute_result"
    }
   ],
   "source": [
    "arr2"
   ]
  },
  {
   "cell_type": "code",
   "execution_count": 42,
   "id": "9b9f59d0-3360-480b-8a48-60c013e63bbc",
   "metadata": {},
   "outputs": [],
   "source": [
    "arr3=arr2/arr1"
   ]
  },
  {
   "cell_type": "code",
   "execution_count": 43,
   "id": "2bd4ab08-ada4-4ba4-9d67-ea88de446ce3",
   "metadata": {},
   "outputs": [
    {
     "data": {
      "text/plain": [
       "array([2.        , 1.        , 0.66666667, 0.375     , 0.2       ])"
      ]
     },
     "execution_count": 43,
     "metadata": {},
     "output_type": "execute_result"
    }
   ],
   "source": [
    "arr3"
   ]
  },
  {
   "cell_type": "code",
   "execution_count": 4,
   "id": "52026b46-e72c-4ac9-99b6-ed917d76e56a",
   "metadata": {},
   "outputs": [],
   "source": [
    "#55. Create a NumPy array `arr1` with integers from 1 to 5 and another array `arr2` with the same numbers reversed. Calculate the exponentiation of `arr1` raised to the power of `arr2` element-wise.\n",
    "arr1=np.random.randint(1,6,size=(1,5))"
   ]
  },
  {
   "cell_type": "code",
   "execution_count": 5,
   "id": "b914df67-f3b2-4bfb-b287-6beb52210727",
   "metadata": {},
   "outputs": [
    {
     "data": {
      "text/plain": [
       "array([[3, 5, 4, 1, 1]])"
      ]
     },
     "execution_count": 5,
     "metadata": {},
     "output_type": "execute_result"
    }
   ],
   "source": [
    "arr1"
   ]
  },
  {
   "cell_type": "code",
   "execution_count": 6,
   "id": "54b6f540-4772-4b75-a336-94767ae2f195",
   "metadata": {},
   "outputs": [],
   "source": [
    "arr2=np.flip(arr1)"
   ]
  },
  {
   "cell_type": "code",
   "execution_count": 7,
   "id": "5bff13be-fbd2-4a61-8817-15155f7e8b19",
   "metadata": {},
   "outputs": [
    {
     "data": {
      "text/plain": [
       "array([[1, 1, 4, 5, 3]])"
      ]
     },
     "execution_count": 7,
     "metadata": {},
     "output_type": "execute_result"
    }
   ],
   "source": [
    "arr2"
   ]
  },
  {
   "cell_type": "code",
   "execution_count": 8,
   "id": "86af6aa6-346d-4cd4-8c05-902bf05b5543",
   "metadata": {},
   "outputs": [],
   "source": [
    "arr3=np.power(arr1,arr2)"
   ]
  },
  {
   "cell_type": "code",
   "execution_count": 9,
   "id": "c15c9509-00a9-4ca5-b192-796363d2bd22",
   "metadata": {},
   "outputs": [
    {
     "data": {
      "text/plain": [
       "array([[  3,   5, 256,   1,   1]])"
      ]
     },
     "execution_count": 9,
     "metadata": {},
     "output_type": "execute_result"
    }
   ],
   "source": [
    "arr3"
   ]
  },
  {
   "cell_type": "code",
   "execution_count": 18,
   "id": "eadf0e0e-e287-4660-9d9d-8c3d081aca8a",
   "metadata": {},
   "outputs": [
    {
     "name": "stdout",
     "output_type": "stream",
     "text": [
      "3\n"
     ]
    }
   ],
   "source": [
    "#56. Write a function that counts the occurrences of a specific substring within a NumPy array of strings.\n",
    "\n",
    "def char_counter(arr):\n",
    "    char_count=np.char.count(arr,\"lo\")\n",
    "    char_counter=char_count.sum(axis=0)\n",
    "    print(char_counter)\n",
    "arr = np.array(['hello', 'world', 'hello', 'numpy', 'hello'])\n",
    "char_counter(arr)"
   ]
  },
  {
   "cell_type": "code",
   "execution_count": 2,
   "id": "ff79906c-0653-4d56-8c3e-5fa7f1a79331",
   "metadata": {},
   "outputs": [
    {
     "name": "stdout",
     "output_type": "stream",
     "text": [
      "['H' 'W' 'OAI' 'GPT']\n"
     ]
    }
   ],
   "source": [
    "#57. Write a function that extracts uppercase characters from a NumPy array of strings.\n",
    "\n",
    "arr = np.array(['Hello', 'World', 'OpenAI', 'GPT'])\n",
    "import numpy as np\n",
    "\n",
    "def extract_uppercase(arr):\n",
    "    \n",
    "    result = np.array([''.join([char for char in string if char.isupper()]) for string in arr])\n",
    "    return result\n",
    "\n",
    "\n",
    "arr = np.array(['Hello', 'World', 'OpenAI', 'GPT'])\n",
    "uppercase_characters = extract_uppercase(arr)\n",
    "print(uppercase_characters)"
   ]
  },
  {
   "cell_type": "code",
   "execution_count": 16,
   "id": "03bcdce7-e97a-4a00-965d-1d63efaa942d",
   "metadata": {},
   "outputs": [
    {
     "data": {
      "text/plain": [
       "array(['appbo', 'banana', 'grape', 'pineappbo'], dtype='<U9')"
      ]
     },
     "execution_count": 16,
     "metadata": {},
     "output_type": "execute_result"
    }
   ],
   "source": [
    "#58. Write a function that replaces occurrences of a substring in a NumPy array of strings with a new string.\n",
    "\n",
    "def char_replace(arr):\n",
    "    arr1=np.char.replace(arr,\"le\",\"bo\")\n",
    "    return arr1\n",
    "arr = np.array(['apple', 'banana', 'grape', 'pineapple'])\n",
    "arr2=char_replace(arr)\n",
    "arr2"
   ]
  },
  {
   "cell_type": "code",
   "execution_count": 21,
   "id": "2e2b994a-ee39-419f-83d5-48123afdec7b",
   "metadata": {},
   "outputs": [
    {
     "data": {
      "text/plain": [
       "array(['HelloOpen', 'WorldAI'], dtype='<U9')"
      ]
     },
     "execution_count": 21,
     "metadata": {},
     "output_type": "execute_result"
    }
   ],
   "source": [
    "# 59.Write a function that concatenates strings in a NumPy array element-wise.\n",
    "arr1 = np.array(['Hello', 'World'])\n",
    "arr2 = np.array(['Open', 'AI'])\n",
    "def concatenate_strings(arr1, arr2):\n",
    "    concatenated_arr = np.char.add(arr1, arr2)\n",
    "    return(concatenated_arr)\n",
    "arr1=concatenate_strings(arr1,arr2)\n",
    "arr1"
   ]
  },
  {
   "cell_type": "code",
   "execution_count": 24,
   "id": "fd02cae4-e8cd-47bd-9187-99dfa2d5f8df",
   "metadata": {},
   "outputs": [
    {
     "data": {
      "text/plain": [
       "9"
      ]
     },
     "execution_count": 24,
     "metadata": {},
     "output_type": "execute_result"
    }
   ],
   "source": [
    "#60. Write a function that finds the length of the longest string in a NumPy array.\n",
    "def longest_length(arr):\n",
    "     lengths = np.char.str_len(arr)\n",
    "     max_length = np.max(lengths)\n",
    "     return(max_length)   \n",
    "arr = np.array(['apple', 'banana', 'grape', 'pineapple'])\n",
    "max=longest_length(arr)\n",
    "max\n"
   ]
  },
  {
   "cell_type": "code",
   "execution_count": null,
   "id": "158314cb-6279-448c-9200-e1d340421aca",
   "metadata": {},
   "outputs": [],
   "source": []
  }
 ],
 "metadata": {
  "kernelspec": {
   "display_name": "Python 3 (ipykernel)",
   "language": "python",
   "name": "python3"
  },
  "language_info": {
   "codemirror_mode": {
    "name": "ipython",
    "version": 3
   },
   "file_extension": ".py",
   "mimetype": "text/x-python",
   "name": "python",
   "nbconvert_exporter": "python",
   "pygments_lexer": "ipython3",
   "version": "3.10.8"
  }
 },
 "nbformat": 4,
 "nbformat_minor": 5
}
