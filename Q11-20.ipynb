{
 "cells": [
  {
   "cell_type": "code",
   "execution_count": 2,
   "id": "db2d031a-5a6a-49c1-a6b8-28a74436cc5e",
   "metadata": {},
   "outputs": [],
   "source": [
    "import numpy as np\n"
   ]
  },
  {
   "cell_type": "code",
   "execution_count": null,
   "id": "298779af-8750-4838-be0f-17f2f100ddc8",
   "metadata": {},
   "outputs": [],
   "source": [
    "#11. Create a function `create_zeros_array` that takes an integer `n` as input and returns a NumPy array of zeros with `n` elements.\n",
    "\n",
    "def create_zeros_array(n):\n",
    "    arr11=np.zeros(n,dtype=int)\n",
    "    return arr11\n",
    "    \n"
   ]
  },
  {
   "cell_type": "code",
   "execution_count": 15,
   "id": "9ca9fb4f-0728-4967-a978-624ccd532e34",
   "metadata": {},
   "outputs": [
    {
     "name": "stdin",
     "output_type": "stream",
     "text": [
      " 3\n"
     ]
    },
    {
     "name": "stdout",
     "output_type": "stream",
     "text": [
      "[0 0 0]\n"
     ]
    }
   ],
   "source": [
    "n=int(input())\n",
    "\n",
    "ar112=create_zeros_array(n)\n",
    "print(ar112)"
   ]
  },
  {
   "cell_type": "code",
   "execution_count": 16,
   "id": "d19b2fec-e075-4edb-915b-de52cb5222a5",
   "metadata": {},
   "outputs": [],
   "source": [
    "#12. Write a function `create_ones_matrix` that takes integers `rows` and `cols` as inputs and generates a 2D NumPy array filled with ones of size `rows x cols`\n",
    "import numpy as np\n",
    "def create_ones_matrix(row,column):\n",
    "    ar12=np.ones((row,column),dtype=int)\n",
    "    return ar12\n"
   ]
  },
  {
   "cell_type": "code",
   "execution_count": 17,
   "id": "49c48928-7eb2-4d99-8f6d-125316824457",
   "metadata": {},
   "outputs": [
    {
     "name": "stdin",
     "output_type": "stream",
     "text": [
      "Enter Row 2\n",
      "Enter Column 3\n"
     ]
    },
    {
     "name": "stdout",
     "output_type": "stream",
     "text": [
      "[[1 1 1]\n",
      " [1 1 1]]\n"
     ]
    }
   ],
   "source": [
    "row=int(input(\"Enter Row\"))\n",
    "column=int(input(\"Enter Column\"))\n",
    "ar122=create_ones_matrix(row,column)\n",
    "print(ar122)"
   ]
  },
  {
   "cell_type": "code",
   "execution_count": 19,
   "id": "7a82ec74-2e30-43cc-b4e9-75f37e9084ff",
   "metadata": {},
   "outputs": [],
   "source": [
    "#13. Write a function `generate_range_array` that takes three integers start, stop, and step as arguments and creates a NumPy array with a range starting from `start`, ending at stop (exclusive), and with the specified `step`.\n",
    "def generate_range_array(start,stop,step):\n",
    "    arr13=np.arange(start,stop,step)\n",
    "    return arr13"
   ]
  },
  {
   "cell_type": "code",
   "execution_count": 20,
   "id": "b080f39f-54cc-4cec-873b-2dcf552c16a7",
   "metadata": {},
   "outputs": [
    {
     "name": "stdin",
     "output_type": "stream",
     "text": [
      "Enter Start 1\n",
      "Enter Stop 11\n",
      "Enter Step 1\n"
     ]
    },
    {
     "name": "stdout",
     "output_type": "stream",
     "text": [
      "[ 1  2  3  4  5  6  7  8  9 10]\n"
     ]
    }
   ],
   "source": [
    "start=int(input(\"Enter Start\"))\n",
    "stop=int(input(\"Enter Stop\"))\n",
    "step=int(input(\"Enter Step\"))\n",
    "ar133=generate_range_array(start,stop,step)\n",
    "print(ar133)"
   ]
  },
  {
   "cell_type": "code",
   "execution_count": null,
   "id": "42985d1a-46ab-40c3-9707-0736fa39d5a1",
   "metadata": {},
   "outputs": [],
   "source": [
    "#14. Design a function `generate_linear_space` that takes two floats `start`, `stop`, and an integer `num` as arguments and generates a NumPy array with num equally spaced values between `start` and `stop`\n",
    "def generate_range_array(start,stop,step):\n",
    "    arr13=np.linspace(start,stop,step)\n",
    "    return arr13"
   ]
  },
  {
   "cell_type": "code",
   "execution_count": 14,
   "id": "87d4a81c-02fc-45ad-a727-5337067a5ae4",
   "metadata": {},
   "outputs": [
    {
     "name": "stdin",
     "output_type": "stream",
     "text": [
      "Enter Start 1\n",
      "Enter Stop 15\n",
      "Enter no of element 7\n"
     ]
    },
    {
     "name": "stdout",
     "output_type": "stream",
     "text": [
      "[ 1.          3.33333333  5.66666667  8.         10.33333333 12.66666667\n",
      " 15.        ]\n"
     ]
    }
   ],
   "source": [
    "start=int(input(\"Enter Start\"))\n",
    "stop=int(input(\"Enter Stop\"))\n",
    "step=int(input(\"Enter no of element\"))\n",
    "ar133=generate_range_array(start,stop,step)\n",
    "print(ar133)"
   ]
  },
  {
   "cell_type": "code",
   "execution_count": 24,
   "id": "392c498c-dcb3-4470-996d-531681806c23",
   "metadata": {},
   "outputs": [],
   "source": [
    "#15. Create a function `create_identity_matrix` that takes an integer `n` as input and generates a square identity matrix of size `n x n` using `numpy.eye`.\n",
    "def create_identity_matrix(n):\n",
    "    arr14=np.eye(n,dtype=int)\n",
    "    return arr14"
   ]
  },
  {
   "cell_type": "code",
   "execution_count": 25,
   "id": "3da2caee-617a-4072-b256-76a21ed2f7e2",
   "metadata": {},
   "outputs": [
    {
     "name": "stdin",
     "output_type": "stream",
     "text": [
      " 3\n"
     ]
    },
    {
     "name": "stdout",
     "output_type": "stream",
     "text": [
      "[[1 0 0]\n",
      " [0 1 0]\n",
      " [0 0 1]]\n"
     ]
    }
   ],
   "source": [
    "n=int(input())\n",
    "\n",
    "ar114=create_identity_matrix(n)\n",
    "print(ar114)"
   ]
  },
  {
   "cell_type": "code",
   "execution_count": 27,
   "id": "4ee974dd-68e4-4dd7-97ec-0853d7ec25df",
   "metadata": {},
   "outputs": [],
   "source": [
    "#16. Write a function that takes a Python list and converts it into a NumPy array.\n",
    "l=[1, 2, 3, 4, 5]\n",
    "arr=np.array(l)"
   ]
  },
  {
   "cell_type": "code",
   "execution_count": 28,
   "id": "1ce8dc4d-7541-4129-9ad3-eb8ea8c16ca5",
   "metadata": {},
   "outputs": [
    {
     "data": {
      "text/plain": [
       "array([1, 2, 3, 4, 5])"
      ]
     },
     "execution_count": 28,
     "metadata": {},
     "output_type": "execute_result"
    }
   ],
   "source": [
    "arr\n"
   ]
  },
  {
   "cell_type": "code",
   "execution_count": 18,
   "id": "1053ee76-d4fc-4f83-bad1-d3e3aeb8b3ec",
   "metadata": {},
   "outputs": [],
   "source": [
    "#17. Create a NumPy array and demonstrate the use of `numpy.view` to create a new array object with the same data.\n",
    "arr=np.array([1,2,3,4,5,6])\n",
    "co=arr.view().reshape((3,2))"
   ]
  },
  {
   "cell_type": "code",
   "execution_count": 19,
   "id": "de2b4cfe-4ed3-4843-93f4-5ed961a4b4f4",
   "metadata": {},
   "outputs": [
    {
     "data": {
      "text/plain": [
       "array([1, 2, 3, 4, 5, 6])"
      ]
     },
     "execution_count": 19,
     "metadata": {},
     "output_type": "execute_result"
    }
   ],
   "source": [
    "arr"
   ]
  },
  {
   "cell_type": "code",
   "execution_count": 20,
   "id": "909e4472-bdf6-4c96-8b2e-e2c749163128",
   "metadata": {},
   "outputs": [
    {
     "data": {
      "text/plain": [
       "array([[1, 2],\n",
       "       [3, 4],\n",
       "       [5, 6]])"
      ]
     },
     "execution_count": 20,
     "metadata": {},
     "output_type": "execute_result"
    }
   ],
   "source": [
    "co"
   ]
  },
  {
   "cell_type": "code",
   "execution_count": null,
   "id": "8e1e6feb-ebdc-4279-a3cb-9e8130d8ff67",
   "metadata": {},
   "outputs": [],
   "source": [
    "\"\"\"The numpy.view method of NumPy forms a new view of an array with different data type \n",
    "or shape without copying the data. When implemented, it helps in changing the format  of the data and \n",
    "makes array reshaping more efficient. It does not change the original array which makes it better  to visualize \n",
    "array with different shape.Any change made in the original array is affected in the view as well\"\"\""
   ]
  },
  {
   "cell_type": "code",
   "execution_count": 53,
   "id": "3901bf33-63a3-4d1f-a295-1e89256a2b58",
   "metadata": {},
   "outputs": [],
   "source": [
    "#18. Write a function that takes two NumPy arrays and concatenates them along a specified axis.\n",
    "arr1=np.array([1,2,3,4,5])\n",
    "arr2=np.array([6,7,8,9,10])\n",
    "arr3=np.concatenate((arr1,arr2),axis=0)"
   ]
  },
  {
   "cell_type": "code",
   "execution_count": 29,
   "id": "c8dbc8a0-61e0-47c6-9067-5d47f7a63939",
   "metadata": {},
   "outputs": [
    {
     "data": {
      "text/plain": [
       "array([ 1,  2,  3,  4,  5,  6,  7,  8,  9, 10])"
      ]
     },
     "execution_count": 29,
     "metadata": {},
     "output_type": "execute_result"
    }
   ],
   "source": [
    "arr3"
   ]
  },
  {
   "cell_type": "code",
   "execution_count": 40,
   "id": "bc3b0921-b20d-4525-ac26-7610d492b69b",
   "metadata": {},
   "outputs": [],
   "source": [
    "#19. Create two NumPy arrays with different shapes and concatenate them horizontally using `numpy.concatenate\n",
    "arr1=np.random.randint(1,5,(3,2))\n",
    "arr2=np.random.randint(1,5,(3,1))"
   ]
  },
  {
   "cell_type": "code",
   "execution_count": 41,
   "id": "e4ef0879-faf7-4901-879f-5a2e465b2545",
   "metadata": {},
   "outputs": [
    {
     "data": {
      "text/plain": [
       "array([[1, 1],\n",
       "       [3, 4],\n",
       "       [1, 1]])"
      ]
     },
     "execution_count": 41,
     "metadata": {},
     "output_type": "execute_result"
    }
   ],
   "source": [
    "arr1"
   ]
  },
  {
   "cell_type": "code",
   "execution_count": 42,
   "id": "17c8c5de-189f-4d85-b772-ce212b661f4d",
   "metadata": {},
   "outputs": [],
   "source": [
    "arr3=np.concatenate((arr1,arr2),axis=1)"
   ]
  },
  {
   "cell_type": "code",
   "execution_count": 43,
   "id": "3a83e656-da71-4301-8e7c-957c7d4cb85c",
   "metadata": {},
   "outputs": [
    {
     "data": {
      "text/plain": [
       "array([[2],\n",
       "       [3],\n",
       "       [3]])"
      ]
     },
     "execution_count": 43,
     "metadata": {},
     "output_type": "execute_result"
    }
   ],
   "source": [
    "arr2"
   ]
  },
  {
   "cell_type": "code",
   "execution_count": 44,
   "id": "42e3d7ad-b8c4-4d8d-a203-3fe151ae111d",
   "metadata": {},
   "outputs": [
    {
     "data": {
      "text/plain": [
       "array([[1, 1, 2],\n",
       "       [3, 4, 3],\n",
       "       [1, 1, 3]])"
      ]
     },
     "execution_count": 44,
     "metadata": {},
     "output_type": "execute_result"
    }
   ],
   "source": [
    "arr3"
   ]
  },
  {
   "cell_type": "code",
   "execution_count": 48,
   "id": "210ea731-d7ee-4f43-ad6b-1a45fbb3f6ff",
   "metadata": {},
   "outputs": [],
   "source": [
    "#20. Write a function that vertically stacks multiple NumPy arrays given as a list.\n",
    "arr1=np.array([1,2,3,4,5])\n",
    "arr2=np.array([6,7,8,9,10])\n",
    "arr3=np.vstack((arr1,arr2))"
   ]
  },
  {
   "cell_type": "code",
   "execution_count": 49,
   "id": "d361e7eb-fc9e-458f-b75b-9f3cd8806fa9",
   "metadata": {},
   "outputs": [
    {
     "data": {
      "text/plain": [
       "array([[ 1,  2,  3,  4,  5],\n",
       "       [ 6,  7,  8,  9, 10]])"
      ]
     },
     "execution_count": 49,
     "metadata": {},
     "output_type": "execute_result"
    }
   ],
   "source": [
    "arr3"
   ]
  },
  {
   "cell_type": "code",
   "execution_count": null,
   "id": "43c2b152-f09b-4800-bf3d-c7dbc75c1e4c",
   "metadata": {},
   "outputs": [],
   "source": [
    "\n"
   ]
  }
 ],
 "metadata": {
  "kernelspec": {
   "display_name": "Python 3 (ipykernel)",
   "language": "python",
   "name": "python3"
  },
  "language_info": {
   "codemirror_mode": {
    "name": "ipython",
    "version": 3
   },
   "file_extension": ".py",
   "mimetype": "text/x-python",
   "name": "python",
   "nbconvert_exporter": "python",
   "pygments_lexer": "ipython3",
   "version": "3.10.8"
  }
 },
 "nbformat": 4,
 "nbformat_minor": 5
}
