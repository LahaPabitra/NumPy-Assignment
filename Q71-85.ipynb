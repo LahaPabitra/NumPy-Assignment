{
 "cells": [
  {
   "cell_type": "code",
   "execution_count": 18,
   "id": "232137e4-040c-43f5-9e12-805122e56543",
   "metadata": {},
   "outputs": [],
   "source": [
    "import numpy as np"
   ]
  },
  {
   "cell_type": "code",
   "execution_count": 19,
   "id": "5ba35d4a-5ac5-4ac4-9ba7-9a1ed254611c",
   "metadata": {},
   "outputs": [
    {
     "name": "stdout",
     "output_type": "stream",
     "text": [
      "Byte order: =\n"
     ]
    }
   ],
   "source": [
    "#71. For the given NumPy array, check its byte order using the `dtype` attribute byteorder.\n",
    "arr = np.array([1, 2, 3])\n",
    "byte_order = arr.dtype.byteorder\n",
    "print(\"Byte order:\", byte_order)\n",
    "\n"
   ]
  },
  {
   "cell_type": "code",
   "execution_count": null,
   "id": "d337c978-a401-4d9c-a485-7fd1bdfdb318",
   "metadata": {},
   "outputs": [],
   "source": [
    "\"\"\"this = means the array has a byte order that matches the system's native byte order.\"\"\""
   ]
  },
  {
   "cell_type": "code",
   "execution_count": 21,
   "id": "6b2163ec-c4e0-4c8f-a2ab-707548cf80d5",
   "metadata": {},
   "outputs": [
    {
     "name": "stdout",
     "output_type": "stream",
     "text": [
      "Array after byte swapping: [16777216 33554432 50331648]\n"
     ]
    }
   ],
   "source": [
    "#72. For the given NumPy array, perform byte swapping in place using `byteswap()`.\n",
    "arr = np.array([1, 2, 3], dtype=np.int32)\n",
    "arr.byteswap(True)\n",
    "print(\"Array after byte swapping:\", arr)"
   ]
  },
  {
   "cell_type": "code",
   "execution_count": 22,
   "id": "e928efc5-2786-40c5-bc92-e70342fcc95a",
   "metadata": {},
   "outputs": [
    {
     "name": "stdout",
     "output_type": "stream",
     "text": [
      "Original array: [1 2 3]\n",
      "Array with swapped byte order: [16777216 33554432 50331648]\n"
     ]
    }
   ],
   "source": [
    "#73. For the given NumPy array, swap its byte order without modifying the original array using`newbyteorder()`.\n",
    "arr = np.array([1, 2, 3], dtype=np.int32)\n",
    "swapped_arr = arr.newbyteorder()\n",
    "print(\"Original array:\", arr)\n",
    "print(\"Array with swapped byte order:\", swapped_arr)"
   ]
  },
  {
   "cell_type": "code",
   "execution_count": 26,
   "id": "5822377a-1a23-4d67-ae3e-1e3320ec493c",
   "metadata": {},
   "outputs": [
    {
     "name": "stdout",
     "output_type": "stream",
     "text": [
      "Original array: [1 2 3]\n",
      "Array with swapped byte order: [16777216 33554432 50331648]\n"
     ]
    }
   ],
   "source": [
    "#74. For the given NumPy array and swap its byte order conditionally based on system endianness using `newbyteorder()`.\n",
    "arr = np.array([1, 2, 3], dtype=np.int32)\n",
    "\n",
    "\n",
    "if np.little_endian:\n",
    "   \n",
    "    swapped_arr = arr.newbyteorder('B')\n",
    "else:\n",
    "    \n",
    "    swapped_arr = arr.newbyteorder('L')\n",
    "\n",
    "print(\"Original array:\", arr)\n",
    "print(\"Array with swapped byte order:\", swapped_arr)"
   ]
  },
  {
   "cell_type": "code",
   "execution_count": 27,
   "id": "8424b93c-2178-4cfc-96e7-64a5e3f79c02",
   "metadata": {},
   "outputs": [
    {
     "name": "stdout",
     "output_type": "stream",
     "text": [
      "Byte order is native to the system. No swapping necessary.\n"
     ]
    }
   ],
   "source": [
    "#75.For the given NumPy array, check if byte swapping is necessary for the current system using `dtype`attribute `byteorder`.\n",
    "arr = np.array([1, 2, 3], dtype=np.int32)\n",
    "byte_order = arr.dtype.byteorder\n",
    "if byte_order == '=':\n",
    "    print(\"Byte order is native to the system. No swapping necessary.\")\n",
    "elif (byte_order == '<' and not np.little_endian) or (byte_order == '>' and np.little_endian):\n",
    "    print(\"Byte order is different from the system's native byte order. Swapping is necessary.\")\n",
    "else:\n",
    "    print(\"Byte order matches the system's native byte order. No swapping necessary.\")"
   ]
  },
  {
   "cell_type": "code",
   "execution_count": 29,
   "id": "1b7d2cfc-80e8-4962-91a0-9ae5d2571fc0",
   "metadata": {},
   "outputs": [
    {
     "data": {
      "text/plain": [
       "array([[8, 2, 9],\n",
       "       [6, 3, 6]])"
      ]
     },
     "execution_count": 29,
     "metadata": {},
     "output_type": "execute_result"
    }
   ],
   "source": [
    "#76. Create a NumPy array `arr1` with values from 1 to 10. Create a copy of `arr1` named `copy_arr` and modify an element in `copy_arr`. Check if modifying `copy_arr` affects `arr1`.\n",
    "arr1=np.random.randint(1,10,(2,3))\n",
    "copy_arr=arr1.copy()\n",
    "arr1"
   ]
  },
  {
   "cell_type": "code",
   "execution_count": 30,
   "id": "0aec0d20-2cf1-48b1-befd-02fccc6d3622",
   "metadata": {},
   "outputs": [
    {
     "data": {
      "text/plain": [
       "array([[8, 2, 9],\n",
       "       [6, 3, 6]])"
      ]
     },
     "execution_count": 30,
     "metadata": {},
     "output_type": "execute_result"
    }
   ],
   "source": [
    "copy_arr"
   ]
  },
  {
   "cell_type": "code",
   "execution_count": 32,
   "id": "914d0531-f446-4165-9197-4ccae447856f",
   "metadata": {},
   "outputs": [
    {
     "data": {
      "text/plain": [
       "array([[ 8, 20,  9],\n",
       "       [ 6,  3,  6]])"
      ]
     },
     "execution_count": 32,
     "metadata": {},
     "output_type": "execute_result"
    }
   ],
   "source": [
    "arr1[0][1]=20\n",
    "arr1"
   ]
  },
  {
   "cell_type": "code",
   "execution_count": 33,
   "id": "5f32eca9-4594-4a4a-b6ee-2a3bb5fc31e2",
   "metadata": {},
   "outputs": [
    {
     "data": {
      "text/plain": [
       "array([[8, 2, 9],\n",
       "       [6, 3, 6]])"
      ]
     },
     "execution_count": 33,
     "metadata": {},
     "output_type": "execute_result"
    }
   ],
   "source": [
    "copy_arr"
   ]
  },
  {
   "cell_type": "code",
   "execution_count": null,
   "id": "2a88e17d-9599-4341-b93b-700a3298a881",
   "metadata": {},
   "outputs": [],
   "source": [
    "\"\"\"The change is not reflected in copy_arr as copy creates a seperate copy of the array unlike \n",
    "view where any change in the original array affects the view\"\"\""
   ]
  },
  {
   "cell_type": "code",
   "execution_count": 35,
   "id": "a43d83c8-cb12-4963-9e2f-018ef58bc9da",
   "metadata": {},
   "outputs": [
    {
     "data": {
      "text/plain": [
       "array([[16, 95, 83],\n",
       "       [99, 26, 96],\n",
       "       [27, 53, 45]])"
      ]
     },
     "execution_count": 35,
     "metadata": {},
     "output_type": "execute_result"
    }
   ],
   "source": [
    "#77. Create a 2D NumPy array `matrix` of shape (3, 3) with random integers. Extract a slice `view_slice` from the matrix. Modify an element in `view_slice` and observe if it changes the original `matrix`.\n",
    "arr=np.random.randint(1,100,(3,3))\n",
    "arr"
   ]
  },
  {
   "cell_type": "code",
   "execution_count": 40,
   "id": "5d8e458f-b6e4-4d15-9caf-ec58c6406361",
   "metadata": {},
   "outputs": [
    {
     "data": {
      "text/plain": [
       "array([[95, 83],\n",
       "       [26, 96]])"
      ]
     },
     "execution_count": 40,
     "metadata": {},
     "output_type": "execute_result"
    }
   ],
   "source": [
    "view_slice=arr[0:2,1:3]\n",
    "view_slice"
   ]
  },
  {
   "cell_type": "code",
   "execution_count": 42,
   "id": "301b06f6-04bf-4cb9-9799-f1964915dff3",
   "metadata": {},
   "outputs": [
    {
     "data": {
      "text/plain": [
       "array([[32, 83],\n",
       "       [26, 96]])"
      ]
     },
     "execution_count": 42,
     "metadata": {},
     "output_type": "execute_result"
    }
   ],
   "source": [
    "view_slice[0][0]=32\n",
    "view_slice"
   ]
  },
  {
   "cell_type": "code",
   "execution_count": 43,
   "id": "9bc8c3d4-7c00-4783-8ff0-20a092717c50",
   "metadata": {},
   "outputs": [
    {
     "data": {
      "text/plain": [
       "array([[16, 32, 83],\n",
       "       [99, 26, 96],\n",
       "       [27, 53, 45]])"
      ]
     },
     "execution_count": 43,
     "metadata": {},
     "output_type": "execute_result"
    }
   ],
   "source": [
    "arr"
   ]
  },
  {
   "cell_type": "code",
   "execution_count": null,
   "id": "06e9f5f3-7291-4a6b-8d16-9896d0a39f18",
   "metadata": {},
   "outputs": [],
   "source": [
    "\"\"\"as we see any change on the slice also affects the original array\"\"\""
   ]
  },
  {
   "cell_type": "code",
   "execution_count": 66,
   "id": "d7b6b6d0-2fee-4c28-bfcb-e0bc570f1140",
   "metadata": {},
   "outputs": [
    {
     "data": {
      "text/plain": [
       "array([[9, 8, 1],\n",
       "       [4, 1, 6],\n",
       "       [1, 9, 7],\n",
       "       [6, 3, 1]])"
      ]
     },
     "execution_count": 66,
     "metadata": {},
     "output_type": "execute_result"
    }
   ],
   "source": [
    "#78. Create a NumPy array `array_a` of shape (4, 3) with sequential integers from 1 to 12. Extract a slice `view_b` from `array_a` and broadcast the addition of 5 to view_b. Check if it alters the original `array_a`.\n",
    "array_a=np.random.randint(1,12,(4,3))\n",
    "array_a"
   ]
  },
  {
   "cell_type": "code",
   "execution_count": 67,
   "id": "2b99b4ac-4fc9-4b3e-a225-9640c272851f",
   "metadata": {},
   "outputs": [
    {
     "data": {
      "text/plain": [
       "array([[10,  7],\n",
       "       [ 9,  2],\n",
       "       [ 8,  3]])"
      ]
     },
     "execution_count": 67,
     "metadata": {},
     "output_type": "execute_result"
    }
   ],
   "source": [
    "view_b=arr[0:3,1:3]\n",
    "view_b"
   ]
  },
  {
   "cell_type": "code",
   "execution_count": 68,
   "id": "c044a11c-0f83-43a6-aaa1-cf12aaa5acb7",
   "metadata": {},
   "outputs": [
    {
     "data": {
      "text/plain": [
       "array([[15, 12],\n",
       "       [14,  7],\n",
       "       [13,  8]])"
      ]
     },
     "execution_count": 68,
     "metadata": {},
     "output_type": "execute_result"
    }
   ],
   "source": [
    "view_b=view_b+5\n",
    "view_b"
   ]
  },
  {
   "cell_type": "code",
   "execution_count": 69,
   "id": "f57ae246-6780-4dea-ac95-d6fec753c445",
   "metadata": {},
   "outputs": [
    {
     "data": {
      "text/plain": [
       "array([[9, 8, 1],\n",
       "       [4, 1, 6],\n",
       "       [1, 9, 7],\n",
       "       [6, 3, 1]])"
      ]
     },
     "execution_count": 69,
     "metadata": {},
     "output_type": "execute_result"
    }
   ],
   "source": [
    "array_a"
   ]
  },
  {
   "cell_type": "code",
   "execution_count": 53,
   "id": "20cad37b-e353-4dd1-bed5-d200cf6916cd",
   "metadata": {},
   "outputs": [
    {
     "data": {
      "text/plain": [
       "'it does not affect the original array'"
      ]
     },
     "execution_count": 53,
     "metadata": {},
     "output_type": "execute_result"
    }
   ],
   "source": [
    "\"\"\"it does not affect the original array\"\"\""
   ]
  },
  {
   "cell_type": "code",
   "execution_count": 61,
   "id": "ad0a6b89-8cbf-4b5a-aee0-6a8b5375fbf5",
   "metadata": {},
   "outputs": [
    {
     "data": {
      "text/plain": [
       "array([[1, 4],\n",
       "       [8, 5],\n",
       "       [1, 7],\n",
       "       [2, 3]])"
      ]
     },
     "execution_count": 61,
     "metadata": {},
     "output_type": "execute_result"
    }
   ],
   "source": [
    "#79. Create a NumPy array `orig_array` of shape (2, 4) with values from 1 to 8. Create a reshaped view `reshaped_view` of shape (4, 2) from orig_array. Modify an element in `reshaped_view` and check if itreflects changes in the original `orig_array\n",
    "orig_array=np.random.randint(1,9,(2,4))\n",
    "reshaped_view=orig_array.view().reshape(4,2)\n",
    "reshaped_view"
   ]
  },
  {
   "cell_type": "code",
   "execution_count": 62,
   "id": "a3ffab5f-688b-4af0-85f5-060c78be6e56",
   "metadata": {},
   "outputs": [
    {
     "data": {
      "text/plain": [
       "array([[1, 4, 8, 5],\n",
       "       [1, 7, 2, 3]])"
      ]
     },
     "execution_count": 62,
     "metadata": {},
     "output_type": "execute_result"
    }
   ],
   "source": [
    "orig_array\n"
   ]
  },
  {
   "cell_type": "code",
   "execution_count": 64,
   "id": "a4053509-99da-411f-a98a-47ca196dd144",
   "metadata": {},
   "outputs": [
    {
     "data": {
      "text/plain": [
       "array([[  1, 100],\n",
       "       [  8,   5],\n",
       "       [  1,   7],\n",
       "       [  2,   3]])"
      ]
     },
     "execution_count": 64,
     "metadata": {},
     "output_type": "execute_result"
    }
   ],
   "source": [
    "reshaped_view[0][1]=100\n",
    "reshaped_view"
   ]
  },
  {
   "cell_type": "code",
   "execution_count": 65,
   "id": "e125300d-c749-41a9-b197-8d8f14abe734",
   "metadata": {},
   "outputs": [
    {
     "data": {
      "text/plain": [
       "array([[  1, 100,   8,   5],\n",
       "       [  1,   7,   2,   3]])"
      ]
     },
     "execution_count": 65,
     "metadata": {},
     "output_type": "execute_result"
    }
   ],
   "source": [
    "orig_array"
   ]
  },
  {
   "cell_type": "code",
   "execution_count": null,
   "id": "31150d14-af3c-40c3-9fa4-1c30bc43a5ed",
   "metadata": {},
   "outputs": [],
   "source": [
    "\"\"\"any change in view is also reflected in the original array\"\"\""
   ]
  },
  {
   "cell_type": "code",
   "execution_count": 73,
   "id": "e1bf16ac-798e-4f32-a47e-bed497bbff68",
   "metadata": {},
   "outputs": [
    {
     "data": {
      "text/plain": [
       "array([[ 8, 11,  5,  9],\n",
       "       [ 5, 10, 10,  5],\n",
       "       [11,  7,  3,  3]])"
      ]
     },
     "execution_count": 73,
     "metadata": {},
     "output_type": "execute_result"
    }
   ],
   "source": [
    "#80. Create a NumPy array `data` of shape (3, 4) with random integers. Extract a copy `data_copy` of elements greater than 5. Modify an element in `data_copy` and verify if it affects the original `data`.\n",
    "data=np.random.randint(1,12,(3,4))\n",
    "data_copy=data.copy()[data>5]\n",
    "data"
   ]
  },
  {
   "cell_type": "code",
   "execution_count": 74,
   "id": "a7155a62-c95d-4a6c-b301-e8f39dbaf544",
   "metadata": {},
   "outputs": [
    {
     "data": {
      "text/plain": [
       "array([ 8, 11,  9, 10, 10, 11,  7])"
      ]
     },
     "execution_count": 74,
     "metadata": {},
     "output_type": "execute_result"
    }
   ],
   "source": [
    "data_copy"
   ]
  },
  {
   "cell_type": "code",
   "execution_count": 76,
   "id": "acee0f1e-4962-493e-9134-0daa7128c08d",
   "metadata": {},
   "outputs": [
    {
     "data": {
      "text/plain": [
       "array([  8,  11, 300,  10,  10,  11,   7])"
      ]
     },
     "execution_count": 76,
     "metadata": {},
     "output_type": "execute_result"
    }
   ],
   "source": [
    "data_copy[2]=300\n",
    "data_copy"
   ]
  },
  {
   "cell_type": "code",
   "execution_count": 77,
   "id": "a93bbd77-6f4e-4a2d-9175-58495bcca6a7",
   "metadata": {},
   "outputs": [
    {
     "data": {
      "text/plain": [
       "array([[ 8, 11,  5,  9],\n",
       "       [ 5, 10, 10,  5],\n",
       "       [11,  7,  3,  3]])"
      ]
     },
     "execution_count": 77,
     "metadata": {},
     "output_type": "execute_result"
    }
   ],
   "source": [
    "data"
   ]
  },
  {
   "cell_type": "code",
   "execution_count": null,
   "id": "42054731-61b3-41b2-aea3-8960728a7055",
   "metadata": {},
   "outputs": [],
   "source": [
    "\"\"\"any change in the copy is not reflected in the original array\"\"\""
   ]
  },
  {
   "cell_type": "code",
   "execution_count": 2,
   "id": "41e6c84f-4e44-452e-bb02-dbdb7fcfa45b",
   "metadata": {},
   "outputs": [],
   "source": [
    "\n",
    "#81. Create two matrices A and B of identical shape containing integers and perform addition and subtraction operations between them.\n",
    "a=np.random.randint(1,1000,size=(3,2))\n",
    "b=np.random.randint(1,1000,size=(3,2))\n",
    "c=a+b\n",
    "d=a-b"
   ]
  },
  {
   "cell_type": "code",
   "execution_count": 3,
   "id": "bff0dbc0-f520-445a-bcb5-ad751d4fb916",
   "metadata": {},
   "outputs": [
    {
     "data": {
      "text/plain": [
       "array([[1046,  840],\n",
       "       [ 373,  703],\n",
       "       [1583,  480]])"
      ]
     },
     "execution_count": 3,
     "metadata": {},
     "output_type": "execute_result"
    }
   ],
   "source": [
    "c"
   ]
  },
  {
   "cell_type": "code",
   "execution_count": 4,
   "id": "a2e09388-351a-413e-9007-03b22525f859",
   "metadata": {},
   "outputs": [
    {
     "data": {
      "text/plain": [
       "array([[ 384, -700],\n",
       "       [ 133, -199],\n",
       "       [ 145, -116]])"
      ]
     },
     "execution_count": 4,
     "metadata": {},
     "output_type": "execute_result"
    }
   ],
   "source": [
    "d"
   ]
  },
  {
   "cell_type": "code",
   "execution_count": 5,
   "id": "a428323e-bafc-4033-8043-6babff496d11",
   "metadata": {},
   "outputs": [],
   "source": [
    "#82. Generate two matrices `C` (3x2) and `D` (2x4) and perform matrix multiplication.\n",
    "c=np.random.randint(1,50,size=(3,2))\n",
    "d=np.random.randint(1,50,size=(2,4))"
   ]
  },
  {
   "cell_type": "code",
   "execution_count": 6,
   "id": "47e4308e-0c0f-432d-8e14-43a08b4b8499",
   "metadata": {},
   "outputs": [],
   "source": [
    "f=c@d"
   ]
  },
  {
   "cell_type": "code",
   "execution_count": 7,
   "id": "047ed8e0-e444-4a53-9f31-9477444e97bb",
   "metadata": {},
   "outputs": [
    {
     "data": {
      "text/plain": [
       "array([[1750, 1876, 2016, 1232],\n",
       "       [1106,  602, 1260,  700],\n",
       "       [1494,  564, 1696,  912]])"
      ]
     },
     "execution_count": 7,
     "metadata": {},
     "output_type": "execute_result"
    }
   ],
   "source": [
    "f"
   ]
  },
  {
   "cell_type": "code",
   "execution_count": 8,
   "id": "d1d28b43-90cb-408e-8908-aa0453f4f45e",
   "metadata": {},
   "outputs": [],
   "source": [
    "#83. Create a matrix `E` and find its transpose.\n",
    "E=np.random.randint(1,50,size=(3,2))\n",
    "F=E.T"
   ]
  },
  {
   "cell_type": "code",
   "execution_count": 9,
   "id": "bf4742fa-b780-4dca-9d7c-87426759c4cf",
   "metadata": {},
   "outputs": [
    {
     "data": {
      "text/plain": [
       "array([[ 3, 39],\n",
       "       [23,  7],\n",
       "       [21, 48]])"
      ]
     },
     "execution_count": 9,
     "metadata": {},
     "output_type": "execute_result"
    }
   ],
   "source": [
    "E"
   ]
  },
  {
   "cell_type": "code",
   "execution_count": 10,
   "id": "148fbcc5-d819-4a66-ba6f-6688be1ea90f",
   "metadata": {},
   "outputs": [
    {
     "data": {
      "text/plain": [
       "array([[ 3, 23, 21],\n",
       "       [39,  7, 48]])"
      ]
     },
     "execution_count": 10,
     "metadata": {},
     "output_type": "execute_result"
    }
   ],
   "source": [
    "F"
   ]
  },
  {
   "cell_type": "code",
   "execution_count": 11,
   "id": "a0d6820d-888c-4fab-94bc-b13c2acf4245",
   "metadata": {},
   "outputs": [],
   "source": [
    "#84. Generate a square matrix `F` and compute its determinant.\n",
    "arr=np.random.randint(1,50,size=(4,4))\n",
    "arr1=np.linalg.det(arr)\n"
   ]
  },
  {
   "cell_type": "code",
   "execution_count": 12,
   "id": "00792938-30ae-4625-b5ef-8858f4ee0479",
   "metadata": {},
   "outputs": [
    {
     "data": {
      "text/plain": [
       "334379.9999999998"
      ]
     },
     "execution_count": 12,
     "metadata": {},
     "output_type": "execute_result"
    }
   ],
   "source": [
    "arr1"
   ]
  },
  {
   "cell_type": "code",
   "execution_count": 13,
   "id": "3d85ca41-9a57-439f-9c3e-b00a0cec0db4",
   "metadata": {},
   "outputs": [],
   "source": [
    "#85. Create a square matrix `G` and find its inverse.\n",
    "G=np.random.randint(1,50,size=(4,4))\n",
    "G1=np.linalg.inv(G)"
   ]
  },
  {
   "cell_type": "code",
   "execution_count": 14,
   "id": "356988f1-d90d-4353-97f9-810dfaffbc97",
   "metadata": {},
   "outputs": [
    {
     "data": {
      "text/plain": [
       "array([[28, 31, 22, 19],\n",
       "       [36, 15, 33, 11],\n",
       "       [ 6, 45, 31, 35],\n",
       "       [30, 19, 13, 15]])"
      ]
     },
     "execution_count": 14,
     "metadata": {},
     "output_type": "execute_result"
    }
   ],
   "source": [
    "G"
   ]
  },
  {
   "cell_type": "code",
   "execution_count": 15,
   "id": "8aec995a-fa00-4247-a679-ee79bbd27101",
   "metadata": {},
   "outputs": [
    {
     "data": {
      "text/plain": [
       "array([[ 1.50858005e-03,  9.42862531e-05, -1.58400905e-02,\n",
       "         3.49801999e-02],\n",
       "       [ 1.52662913e-01, -3.51014251e-02, -3.15320169e-02,\n",
       "        -9.40572722e-02],\n",
       "       [-7.83922847e-03,  4.41529054e-02,  1.08833275e-02,\n",
       "        -4.78435387e-02],\n",
       "       [-1.89596185e-01,  6.00738127e-03,  6.21885186e-02,\n",
       "         1.57309879e-01]])"
      ]
     },
     "execution_count": 15,
     "metadata": {},
     "output_type": "execute_result"
    }
   ],
   "source": [
    "G1"
   ]
  },
  {
   "cell_type": "code",
   "execution_count": null,
   "id": "e827e474-d440-4f96-9578-19d9424d168a",
   "metadata": {},
   "outputs": [],
   "source": []
  }
 ],
 "metadata": {
  "kernelspec": {
   "display_name": "Python 3 (ipykernel)",
   "language": "python",
   "name": "python3"
  },
  "language_info": {
   "codemirror_mode": {
    "name": "ipython",
    "version": 3
   },
   "file_extension": ".py",
   "mimetype": "text/x-python",
   "name": "python",
   "nbconvert_exporter": "python",
   "pygments_lexer": "ipython3",
   "version": "3.10.8"
  }
 },
 "nbformat": 4,
 "nbformat_minor": 5
}
