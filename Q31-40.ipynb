{
 "cells": [
  {
   "cell_type": "code",
   "execution_count": 8,
   "id": "bf4c5253-133d-460c-a5f4-e3d16456365c",
   "metadata": {},
   "outputs": [],
   "source": [
    "import numpy as np\n",
    "#31.Write a NumPy function to extract elements in specific order from a given 2D array based on indices provided in another array.\n",
    "arr=np.random.randint(1,50,(5,6))\n",
    "arr1=np.array([[1,2],[2,3],[3,4]])\n",
    "\n",
    "\n"
   ]
  },
  {
   "cell_type": "code",
   "execution_count": 9,
   "id": "d23a46bf-53ce-4b48-a14b-9e88e6ea1a7e",
   "metadata": {},
   "outputs": [
    {
     "data": {
      "text/plain": [
       "array([[43,  3, 29,  4, 17, 13],\n",
       "       [49, 10, 10, 42, 10,  4],\n",
       "       [ 3, 21, 35, 40, 23, 47],\n",
       "       [ 1, 14, 16, 18,  2, 44],\n",
       "       [36, 27, 37,  1, 30, 48]])"
      ]
     },
     "execution_count": 9,
     "metadata": {},
     "output_type": "execute_result"
    }
   ],
   "source": [
    "arr"
   ]
  },
  {
   "cell_type": "code",
   "execution_count": 23,
   "id": "5ed2d3ed-ba8f-4ea9-9cd2-b7644abe629b",
   "metadata": {},
   "outputs": [
    {
     "name": "stdout",
     "output_type": "stream",
     "text": [
      "10\n",
      "40\n",
      "2\n"
     ]
    }
   ],
   "source": [
    "for i in range (int(arr1.size/2)):\n",
    "    print(arr[arr1[i][0]][arr1[i][1]])\n",
    "  "
   ]
  },
  {
   "cell_type": "code",
   "execution_count": 36,
   "id": "febdeac9-920a-4b35-bde6-513e00f9f602",
   "metadata": {},
   "outputs": [],
   "source": [
    "#.32. Create a NumPy function that filters elements greater than a threshold from a given 1D array using boolean indexing.\n",
    "arr=np.arange(1,6,1)"
   ]
  },
  {
   "cell_type": "code",
   "execution_count": 37,
   "id": "70e9ade4-c146-4beb-82c2-a40edd12f2b9",
   "metadata": {},
   "outputs": [
    {
     "data": {
      "text/plain": [
       "array([1, 2, 3, 4, 5])"
      ]
     },
     "execution_count": 37,
     "metadata": {},
     "output_type": "execute_result"
    }
   ],
   "source": [
    "arr"
   ]
  },
  {
   "cell_type": "code",
   "execution_count": 38,
   "id": "7686a0f3-2d79-4b4a-ade0-817f28bcf45f",
   "metadata": {},
   "outputs": [
    {
     "data": {
      "text/plain": [
       "array([False, False, False,  True,  True])"
      ]
     },
     "execution_count": 38,
     "metadata": {},
     "output_type": "execute_result"
    }
   ],
   "source": [
    "bool_a=arr>3\n",
    "bool_a"
   ]
  },
  {
   "cell_type": "code",
   "execution_count": 39,
   "id": "cf7e2ea0-7279-490b-b431-a2d3dcff08e3",
   "metadata": {},
   "outputs": [
    {
     "data": {
      "text/plain": [
       "array([4, 5])"
      ]
     },
     "execution_count": 39,
     "metadata": {},
     "output_type": "execute_result"
    }
   ],
   "source": [
    "arr[bool_a]"
   ]
  },
  {
   "cell_type": "code",
   "execution_count": 65,
   "id": "884ae2fa-5bcf-4038-afae-23abb11e7dda",
   "metadata": {},
   "outputs": [],
   "source": [
    "#33. Develop a NumPy function that extracts specific elements from a 3D array using indices provided in three separate arrays for each dimension.\n",
    "arr=np.random.randint(1,500,size=(2,2,3))\n",
    "arr_i=np.array([0,0,1])\n",
    "arr_j=np.array([0,1,1])\n",
    "arr_k=np.array([0,1,2])"
   ]
  },
  {
   "cell_type": "code",
   "execution_count": 66,
   "id": "b5920f4d-cb3c-41bf-a817-eb0c44251e9c",
   "metadata": {},
   "outputs": [
    {
     "data": {
      "text/plain": [
       "array([[[249, 275,  22],\n",
       "        [270,  16, 341]],\n",
       "\n",
       "       [[279, 101, 237],\n",
       "        [394, 104, 164]]])"
      ]
     },
     "execution_count": 66,
     "metadata": {},
     "output_type": "execute_result"
    }
   ],
   "source": [
    "arr\n"
   ]
  },
  {
   "cell_type": "code",
   "execution_count": 67,
   "id": "51694659-8ac3-4910-918d-e93d013b3c4c",
   "metadata": {},
   "outputs": [
    {
     "name": "stdout",
     "output_type": "stream",
     "text": [
      "249\n",
      "16\n",
      "164\n"
     ]
    }
   ],
   "source": [
    "for i in range(arr_i.size):\n",
    "    print(arr[arr_i[i]][arr_j[i]][arr_k[i]])"
   ]
  },
  {
   "cell_type": "code",
   "execution_count": null,
   "id": "57dbeae3-a4ea-43c1-a57d-e4658485b500",
   "metadata": {},
   "outputs": [],
   "source": [
    "#34. Write a NumPy function that returns elements from an array where both two conditions are satisfied using boolean indexing.\n"
   ]
  },
  {
   "cell_type": "code",
   "execution_count": 24,
   "id": "cd586a86-ff45-4cb2-8037-c1fcff26f680",
   "metadata": {},
   "outputs": [],
   "source": [
    "arr=np.random.randint(1,50,(5,6))"
   ]
  },
  {
   "cell_type": "code",
   "execution_count": 25,
   "id": "16266dd1-a6bb-4dd1-9410-34731d50d1f2",
   "metadata": {},
   "outputs": [
    {
     "data": {
      "text/plain": [
       "array([[24,  8, 20, 25, 17, 31],\n",
       "       [16,  5, 35, 26, 10, 43],\n",
       "       [41, 18, 39, 36, 24, 11],\n",
       "       [39, 38, 38, 29,  8, 20],\n",
       "       [ 7, 22, 32, 22, 16, 13]])"
      ]
     },
     "execution_count": 25,
     "metadata": {},
     "output_type": "execute_result"
    }
   ],
   "source": [
    "arr"
   ]
  },
  {
   "cell_type": "code",
   "execution_count": 30,
   "id": "8174a5cd-6da6-4249-b860-64a14fb95e67",
   "metadata": {},
   "outputs": [],
   "source": [
    "bool_a=(arr>4) & (arr%2==0)"
   ]
  },
  {
   "cell_type": "code",
   "execution_count": 31,
   "id": "27c595b4-5429-48d3-9b01-e027bdaf06b5",
   "metadata": {},
   "outputs": [
    {
     "data": {
      "text/plain": [
       "array([[ True,  True,  True, False, False, False],\n",
       "       [ True, False, False,  True,  True, False],\n",
       "       [False,  True, False,  True,  True, False],\n",
       "       [False,  True,  True, False,  True,  True],\n",
       "       [False,  True,  True,  True,  True, False]])"
      ]
     },
     "execution_count": 32,
     "metadata": {},
     "output_type": "execute_result"
    }
   ],
   "source": [
    "bool_a"
   ]
  },
  {
   "cell_type": "code",
   "execution_count": 33,
   "id": "e0ccfc9c-353f-4b75-95a2-1f73a63abbf2",
   "metadata": {},
   "outputs": [
    {
     "data": {
      "text/plain": [
       "array([24,  8, 20, 16, 26, 10, 18, 36, 24, 38, 38,  8, 20, 22, 32, 22, 16])"
      ]
     },
     "execution_count": 33,
     "metadata": {},
     "output_type": "execute_result"
    }
   ],
   "source": [
    "arr[bool_a]"
   ]
  },
  {
   "cell_type": "code",
   "execution_count": 41,
   "id": "e2d1ec2c-2d7c-4a1a-ae6e-dce0ea2c2755",
   "metadata": {},
   "outputs": [
    {
     "data": {
      "text/plain": [
       "array([[16, 29, 30, 31, 27],\n",
       "       [49, 28,  3, 23,  2],\n",
       "       [14, 30, 45, 31, 26],\n",
       "       [29, 37, 33, 11, 21]])"
      ]
     },
     "execution_count": 41,
     "metadata": {},
     "output_type": "execute_result"
    }
   ],
   "source": [
    "#35.Create a NumPy function that extracts elements from a 2D array using row and column indices provided in separate arrays.\n",
    "\n",
    "arr=np.random.randint(1,50,(4,5))\n",
    "arr"
   ]
  },
  {
   "cell_type": "code",
   "execution_count": 43,
   "id": "c55876b8-01ef-43fa-a798-95ce1bba57fa",
   "metadata": {},
   "outputs": [
    {
     "name": "stdout",
     "output_type": "stream",
     "text": [
      "29\n",
      "3\n",
      "31\n"
     ]
    }
   ],
   "source": [
    "arr_row=np.array([0,1,2])\n",
    "arr_column=np.array([1,2,3])\n",
    "for i in range (arr_row.size):\n",
    "    print(arr[arr_row[i]][arr_column[i]])"
   ]
  },
  {
   "cell_type": "code",
   "execution_count": 23,
   "id": "1182777c-7526-4cc5-8ea3-61dbc5907ccd",
   "metadata": {},
   "outputs": [],
   "source": [
    "#36. Given an array arr of shape (3, 3), add a scalar value of 5 to each element using NumPy broadcasting.\n",
    "arr=np.random.randint(1,500,size=(3,3))\n"
   ]
  },
  {
   "cell_type": "code",
   "execution_count": 24,
   "id": "f99440e7-1615-4e5a-9403-80c4a4d2b51e",
   "metadata": {},
   "outputs": [
    {
     "data": {
      "text/plain": [
       "array([[ 45, 193, 324],\n",
       "       [217, 268, 275],\n",
       "       [122,  44, 119]])"
      ]
     },
     "execution_count": 24,
     "metadata": {},
     "output_type": "execute_result"
    }
   ],
   "source": [
    "arr\n"
   ]
  },
  {
   "cell_type": "code",
   "execution_count": 25,
   "id": "5e944f3e-e892-4761-b2c3-155830a4acec",
   "metadata": {},
   "outputs": [],
   "source": [
    "arr1=arr+5"
   ]
  },
  {
   "cell_type": "code",
   "execution_count": 26,
   "id": "28b77cf6-64fc-4067-8d57-e8188a75c24f",
   "metadata": {},
   "outputs": [
    {
     "data": {
      "text/plain": [
       "array([[ 50, 198, 329],\n",
       "       [222, 273, 280],\n",
       "       [127,  49, 124]])"
      ]
     },
     "execution_count": 26,
     "metadata": {},
     "output_type": "execute_result"
    }
   ],
   "source": [
    "arr1"
   ]
  },
  {
   "cell_type": "code",
   "execution_count": 47,
   "id": "829a5c55-69cb-4e19-b13a-59336e9432a2",
   "metadata": {},
   "outputs": [],
   "source": [
    "#37. Consider two arrays arr1 of shape (1, 3) and arr2 of shape (3, 4). Multiply each row of arr2 by the corresponding element in arr1 using NumPy broadcasting.\n",
    "arr=np.random.randint(1,500,size=(1,3))\n",
    "arr1=np.random.randint(1,500,size=(3,4))"
   ]
  },
  {
   "cell_type": "code",
   "execution_count": 48,
   "id": "831dc4ff-a178-45a0-92be-d6d187ffab5b",
   "metadata": {},
   "outputs": [],
   "source": [
    "arr2=arr*arr1[0: ,0 ]"
   ]
  },
  {
   "cell_type": "code",
   "execution_count": 49,
   "id": "3f98f514-d589-41d9-9306-cda9b8fc9284",
   "metadata": {},
   "outputs": [
    {
     "data": {
      "text/plain": [
       "array([[ 43890, 109210,  45466]])"
      ]
     },
     "execution_count": 49,
     "metadata": {},
     "output_type": "execute_result"
    }
   ],
   "source": [
    "arr2"
   ]
  },
  {
   "cell_type": "code",
   "execution_count": 50,
   "id": "542541f2-a3bc-4028-90c4-91a7aa298844",
   "metadata": {},
   "outputs": [],
   "source": [
    "arr3=arr*arr1[0: ,1 ]"
   ]
  },
  {
   "cell_type": "code",
   "execution_count": 51,
   "id": "8a35082d-acb7-4364-8160-f0582481a07a",
   "metadata": {},
   "outputs": [],
   "source": [
    "arr4=arr*arr1[0: ,1 ]"
   ]
  },
  {
   "cell_type": "code",
   "execution_count": 52,
   "id": "ea3aed72-5123-43b8-b8b8-578b9224058d",
   "metadata": {},
   "outputs": [
    {
     "data": {
      "text/plain": [
       "array([[  9842, 129748,  41886]])"
      ]
     },
     "execution_count": 52,
     "metadata": {},
     "output_type": "execute_result"
    }
   ],
   "source": [
    "arr3"
   ]
  },
  {
   "cell_type": "code",
   "execution_count": 42,
   "id": "db79f283-6fa1-4418-89af-8707e710ec51",
   "metadata": {},
   "outputs": [
    {
     "data": {
      "text/plain": [
       "array([[ 66450,   2952, 164379]])"
      ]
     },
     "execution_count": 42,
     "metadata": {},
     "output_type": "execute_result"
    }
   ],
   "source": [
    "arr4"
   ]
  },
  {
   "cell_type": "code",
   "execution_count": 53,
   "id": "f3bad400-e497-4137-a65c-92f5e7c6771e",
   "metadata": {},
   "outputs": [
    {
     "data": {
      "text/plain": [
       "array([[ 43890, 109210,  45466],\n",
       "       [  9842, 129748,  41886],\n",
       "       [  9842, 129748,  41886]])"
      ]
     },
     "execution_count": 53,
     "metadata": {},
     "output_type": "execute_result"
    }
   ],
   "source": [
    "np.vstack((arr2,arr3,arr4))"
   ]
  },
  {
   "cell_type": "code",
   "execution_count": 54,
   "id": "8ad525f9-8c55-424f-9e4a-92c8c0cdb30b",
   "metadata": {},
   "outputs": [],
   "source": [
    "#38. Given a 1D array arr1 of shape (1, 4) and a 2D array arr2 of shape (4, 3), add arr1 to each row of arr2 using NumPy broadcasting.\n",
    "arr1=np.random.randint(1,500,size=(1,4))\n",
    "arr2=np.random.randint(1,500,size=(4,3))"
   ]
  },
  {
   "cell_type": "code",
   "execution_count": 58,
   "id": "382fe74b-8795-464f-bc80-cd0d9bbdcdce",
   "metadata": {},
   "outputs": [],
   "source": [
    "arr_a=arr1+arr2[0: ,0]"
   ]
  },
  {
   "cell_type": "code",
   "execution_count": 59,
   "id": "79bd80c7-87fd-4002-bc35-5db6cdd289ea",
   "metadata": {},
   "outputs": [],
   "source": [
    "arr_b=arr1+arr2[0: ,1]"
   ]
  },
  {
   "cell_type": "code",
   "execution_count": 60,
   "id": "7621d03b-69d2-4fc6-90c8-bea8be9459fa",
   "metadata": {},
   "outputs": [],
   "source": [
    "arr_c=arr1+arr2[0: ,2]"
   ]
  },
  {
   "cell_type": "code",
   "execution_count": 61,
   "id": "3b1a581f-ae2d-4175-930e-d75fd4ed0f66",
   "metadata": {},
   "outputs": [
    {
     "data": {
      "text/plain": [
       "array([[457, 127, 502, 336],\n",
       "       [440, 444, 736, 133],\n",
       "       [385, 315, 721, 450]])"
      ]
     },
     "execution_count": 61,
     "metadata": {},
     "output_type": "execute_result"
    }
   ],
   "source": [
    "np.vstack((arr_a,arr_b,arr_c))"
   ]
  },
  {
   "cell_type": "code",
   "execution_count": 59,
   "id": "6d228812-2c6d-435a-9545-d7cce6023ea8",
   "metadata": {},
   "outputs": [],
   "source": [
    "#39. Consider two arrays arr1 of shape (3, 1) and arr2 of shape (1, 3). Add these arrays using NumPy broadcasting.\n",
    "arr1=np.random.randint(1,50,size=(3,1))\n",
    "arr2=np.random.randint(1,50,size=(1,3))"
   ]
  },
  {
   "cell_type": "code",
   "execution_count": 60,
   "id": "68275016-3e96-4bf8-9d28-7b6f81967271",
   "metadata": {},
   "outputs": [
    {
     "data": {
      "text/plain": [
       "array([[34, 29, 15],\n",
       "       [45, 40, 26],\n",
       "       [42, 37, 23]])"
      ]
     },
     "execution_count": 60,
     "metadata": {},
     "output_type": "execute_result"
    }
   ],
   "source": [
    "arr1+arr2"
   ]
  },
  {
   "cell_type": "code",
   "execution_count": 2,
   "id": "1171ee56-e2fa-4bc9-94fc-20251096a061",
   "metadata": {},
   "outputs": [
    {
     "name": "stdout",
     "output_type": "stream",
     "text": [
      "[[[ 7 14 21]\n",
      "  [32 40 48]]\n",
      "\n",
      " [[ 9 18 27]\n",
      "  [40 50 60]]]\n"
     ]
    }
   ],
   "source": [
    "#40. Given arrays arr1 of shape (2, 3) and arr2 of shape (2, 2), perform multiplication using NumPy broadcasting. Handle the shape incompatibility.\n",
    "\n",
    "import numpy as np\n",
    "\n",
    "\n",
    "arr1 = np.array([[1, 2, 3],\n",
    "                 [4, 5, 6]])\n",
    "\n",
    "arr2 = np.array([[7, 8],\n",
    "                 [9, 10]])\n",
    "\n",
    "arr2_reshaped = arr2[:, :, np.newaxis]\n",
    "\n",
    "\n",
    "result = arr1 * arr2_reshaped\n",
    "\n",
    "print(result)"
   ]
  }
 ],
 "metadata": {
  "kernelspec": {
   "display_name": "Python 3 (ipykernel)",
   "language": "python",
   "name": "python3"
  },
  "language_info": {
   "codemirror_mode": {
    "name": "ipython",
    "version": 3
   },
   "file_extension": ".py",
   "mimetype": "text/x-python",
   "name": "python",
   "nbconvert_exporter": "python",
   "pygments_lexer": "ipython3",
   "version": "3.10.8"
  }
 },
 "nbformat": 4,
 "nbformat_minor": 5
}
