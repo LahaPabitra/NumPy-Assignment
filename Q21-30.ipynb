{
 "cells": [
  {
   "cell_type": "code",
   "execution_count": 5,
   "id": "2e542131-1a72-4cfc-a43d-ef73dc86edfc",
   "metadata": {},
   "outputs": [
    {
     "name": "stdin",
     "output_type": "stream",
     "text": [
      "Enter lower limit 0\n",
      "Enter upper limit 1\n",
      "Enter Step Size 2\n"
     ]
    },
    {
     "data": {
      "text/plain": [
       "array([0])"
      ]
     },
     "execution_count": 5,
     "metadata": {},
     "output_type": "execute_result"
    }
   ],
   "source": [
    "import numpy as np\n",
    "#21. Write a Python function using NumPy to create an array of integers within a specified range (inclusive) with a given step size.\n",
    "n=int(input(\"Enter lower limit\"))\n",
    "n1=int(input(\"Enter upper limit\"))\n",
    "s=int(input(\"Enter Step Size\"))\n",
    "np.arange(n,n1+1,s)"
   ]
  },
  {
   "cell_type": "code",
   "execution_count": 6,
   "id": "2f5f77b9-69b9-4379-a182-36976873545f",
   "metadata": {},
   "outputs": [
    {
     "data": {
      "text/plain": [
       "array([0.        , 0.11111111, 0.22222222, 0.33333333, 0.44444444,\n",
       "       0.55555556, 0.66666667, 0.77777778, 0.88888889, 1.        ])"
      ]
     },
     "execution_count": 6,
     "metadata": {},
     "output_type": "execute_result"
    }
   ],
   "source": [
    "#22. Write a Python function using NumPy to generate an array of 10 equally spaced values between 0 and 1 \n",
    "np.linspace(0,1,10)\n"
   ]
  },
  {
   "cell_type": "code",
   "execution_count": 6,
   "id": "ce353d17-fdaa-45f3-8966-4652ca121bbe",
   "metadata": {},
   "outputs": [
    {
     "data": {
      "text/plain": [
       "array([1.00000000e+001, 5.62341325e+250,             inf,             inf,\n",
       "                   inf])"
      ]
     },
     "execution_count": 6,
     "metadata": {},
     "output_type": "execute_result"
    }
   ],
   "source": [
    "#23. Write a Python function using NumPy to create an array of 5 logarithmically spaced values between 1 and 1000 (inclusive).\n",
    "np.logspace(1,1000,5,base=10)\n"
   ]
  },
  {
   "cell_type": "code",
   "execution_count": 9,
   "id": "43b7f065-d7c3-4903-80fc-ad96aae20957",
   "metadata": {},
   "outputs": [
    {
     "data": {
      "text/plain": [
       "array([[81, 19, 51],\n",
       "       [82, 92, 92],\n",
       "       [53, 80, 20],\n",
       "       [ 2, 90, 10],\n",
       "       [ 4, 88, 32]])"
      ]
     },
     "execution_count": 9,
     "metadata": {},
     "output_type": "execute_result"
    }
   ],
   "source": [
    "#24. Create a Pandas DataFrame using a NumPy array that contains 5 rows and 3 columns, where the values are random integers between 1 and 100.\n",
    "np.random.randint(1,100,size=(5,3))"
   ]
  },
  {
   "cell_type": "code",
   "execution_count": 1,
   "id": "e0c9ab46-5e05-4f96-a62d-96112c267347",
   "metadata": {},
   "outputs": [
    {
     "name": "stdout",
     "output_type": "stream",
     "text": [
      "Original DataFrame:\n",
      "   A   B\n",
      "0  1   6\n",
      "1 -2  -7\n",
      "2  3   8\n",
      "3 -4   9\n",
      "4  5 -10\n",
      "\n",
      "DataFrame after replacing negatives in column 'A' with zeros:\n",
      "   A   B\n",
      "0  1   6\n",
      "1  0  -7\n",
      "2  3   8\n",
      "3  0   9\n",
      "4  5 -10\n"
     ]
    }
   ],
   "source": [
    "#25. Write a function that takes a Pandas DataFrame and replaces all negative values in a specific column with zeros. Use NumPy operations within the Pandas DataFrame.\n",
    "import pandas as pd\n",
    "import numpy as np\n",
    "\n",
    "def replace_negatives_with_zeros(df, column_name):\n",
    "    df[column_name] = np.where(df[column_name] < 0, 0, df[column_name])\n",
    "    return df\n",
    "\n",
    "\n",
    "data = {'A': [1, -2, 3, -4, 5], 'B': [6, -7, 8, 9, -10]}\n",
    "df = pd.DataFrame(data)\n",
    "print(\"Original DataFrame:\")\n",
    "print(df)\n",
    "\n",
    "\n",
    "df = replace_negatives_with_zeros(df, 'A')\n",
    "print(\"\\nDataFrame after replacing negatives in column 'A' with zeros:\")\n",
    "print(df)"
   ]
  },
  {
   "cell_type": "code",
   "execution_count": 11,
   "id": "a2817f2b-e548-430f-b72f-b8237d9c00b9",
   "metadata": {},
   "outputs": [
    {
     "data": {
      "text/plain": [
       "30"
      ]
     },
     "execution_count": 11,
     "metadata": {},
     "output_type": "execute_result"
    }
   ],
   "source": [
    "#26. Access the 3rd element from the given NumPy array.\n",
    "arr = np.array([10, 20, 30, 40, 50])\n",
    "arr[2]"
   ]
  },
  {
   "cell_type": "code",
   "execution_count": 13,
   "id": "406940ba-965c-4ef4-aa85-7b22be633452",
   "metadata": {},
   "outputs": [
    {
     "data": {
      "text/plain": [
       "6"
      ]
     },
     "execution_count": 13,
     "metadata": {},
     "output_type": "execute_result"
    }
   ],
   "source": [
    "#27. Retrieve the element at index (1, 2) from the 2D NumPy array.\n",
    "arr_2d = np.array([[1, 2, 3],\n",
    "                   [4, 5, 6],\n",
    "                   [7, 8, 9]])\n",
    "arr_2d[1][2]\n"
   ]
  },
  {
   "cell_type": "code",
   "execution_count": 7,
   "id": "5346e39b-452d-462d-9435-c648b1edc8a5",
   "metadata": {},
   "outputs": [],
   "source": [
    "#28. Using boolean indexing, extract elements greater than 5 from the given NumPy array\n",
    "arr = np.array([3, 8, 2, 10, 5, 7])\n",
    "bool_arr=arr>5"
   ]
  },
  {
   "cell_type": "code",
   "execution_count": 8,
   "id": "84751387-24b2-42e5-bae8-1a05267b08da",
   "metadata": {},
   "outputs": [
    {
     "data": {
      "text/plain": [
       "array([False,  True, False,  True, False,  True])"
      ]
     },
     "execution_count": 8,
     "metadata": {},
     "output_type": "execute_result"
    }
   ],
   "source": [
    "bool_arr"
   ]
  },
  {
   "cell_type": "code",
   "execution_count": 9,
   "id": "a0987969-2b94-42c9-ad2f-a98e0305bb70",
   "metadata": {},
   "outputs": [
    {
     "data": {
      "text/plain": [
       "array([ 8, 10,  7])"
      ]
     },
     "execution_count": 9,
     "metadata": {},
     "output_type": "execute_result"
    }
   ],
   "source": [
    "arr[bool_arr]"
   ]
  },
  {
   "cell_type": "code",
   "execution_count": 10,
   "id": "a3017546-aae7-4682-a1fb-c081991cd59d",
   "metadata": {},
   "outputs": [
    {
     "data": {
      "text/plain": [
       "array([3, 4, 5, 6])"
      ]
     },
     "execution_count": 10,
     "metadata": {},
     "output_type": "execute_result"
    }
   ],
   "source": [
    "#29. Perform basic slicing to extract elements from index 2 to 5 (inclusive) from the given NumPy array.\n",
    "arr = np.array([1, 2, 3, 4, 5, 6, 7, 8, 9])\n",
    "arr[2:6]"
   ]
  },
  {
   "cell_type": "code",
   "execution_count": 14,
   "id": "6072a1fa-2fb8-4aa2-a0a2-bc898acee131",
   "metadata": {},
   "outputs": [],
   "source": [
    "#30. Slice the 2D NumPy array to extract the sub-array `[[2, 3], [5, 6]]` from the given array\n",
    "arr_2d = np.array([[1, 2, 3],\n",
    "                   [4, 5, 6],\n",
    "                   [7, 8, 9]])\n",
    "arr_slice=arr_2d[0:2,1:3]"
   ]
  },
  {
   "cell_type": "code",
   "execution_count": 15,
   "id": "4fa04506-492b-404c-85b8-1909cc528580",
   "metadata": {},
   "outputs": [
    {
     "data": {
      "text/plain": [
       "array([[2, 3],\n",
       "       [5, 6]])"
      ]
     },
     "execution_count": 15,
     "metadata": {},
     "output_type": "execute_result"
    }
   ],
   "source": [
    "arr_slice"
   ]
  },
  {
   "cell_type": "code",
   "execution_count": null,
   "id": "bc5ae917-8a8d-4667-bd77-f1cdf9c59f94",
   "metadata": {},
   "outputs": [],
   "source": []
  }
 ],
 "metadata": {
  "kernelspec": {
   "display_name": "Python 3 (ipykernel)",
   "language": "python",
   "name": "python3"
  },
  "language_info": {
   "codemirror_mode": {
    "name": "ipython",
    "version": 3
   },
   "file_extension": ".py",
   "mimetype": "text/x-python",
   "name": "python",
   "nbconvert_exporter": "python",
   "pygments_lexer": "ipython3",
   "version": "3.10.8"
  }
 },
 "nbformat": 4,
 "nbformat_minor": 5
}
